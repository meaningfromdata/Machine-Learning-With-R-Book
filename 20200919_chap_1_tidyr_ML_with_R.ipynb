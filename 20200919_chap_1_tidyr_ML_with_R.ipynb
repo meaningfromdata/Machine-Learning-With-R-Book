{
  "nbformat": 4,
  "nbformat_minor": 0,
  "metadata": {
    "colab": {
      "name": "20200919_chap_1_tidyr_ML_with_R.ipynb",
      "provenance": [],
      "collapsed_sections": [],
      "authorship_tag": "ABX9TyM3rXV0MxMSK3dR7IXPcpaw",
      "include_colab_link": true
    },
    "kernelspec": {
      "name": "ir",
      "display_name": "R"
    }
  },
  "cells": [
    {
      "cell_type": "markdown",
      "metadata": {
        "id": "view-in-github",
        "colab_type": "text"
      },
      "source": [
        "<a href=\"https://colab.research.google.com/github/meaningfromdata/Machine-Learning-With-R-Book/blob/master/20200919_chap_1_tidyr_ML_with_R.ipynb\" target=\"_parent\"><img src=\"https://colab.research.google.com/assets/colab-badge.svg\" alt=\"Open In Colab\"/></a>"
      ]
    },
    {
      "cell_type": "code",
      "metadata": {
        "id": "fNO4usQDzhAd",
        "colab_type": "code",
        "colab": {
          "base_uri": "https://localhost:8080/",
          "height": 208
        },
        "outputId": "ad1a4bc3-f005-4750-f35d-c0e33999c84f"
      },
      "source": [
        "library(tidyverse)"
      ],
      "execution_count": 1,
      "outputs": [
        {
          "output_type": "stream",
          "text": [
            "── \u001b[1mAttaching packages\u001b[22m ─────────────────────────────────────── tidyverse 1.3.0 ──\n",
            "\n",
            "\u001b[32m✔\u001b[39m \u001b[34mggplot2\u001b[39m 3.3.2     \u001b[32m✔\u001b[39m \u001b[34mpurrr  \u001b[39m 0.3.4\n",
            "\u001b[32m✔\u001b[39m \u001b[34mtibble \u001b[39m 3.0.3     \u001b[32m✔\u001b[39m \u001b[34mdplyr  \u001b[39m 1.0.2\n",
            "\u001b[32m✔\u001b[39m \u001b[34mtidyr  \u001b[39m 1.1.2     \u001b[32m✔\u001b[39m \u001b[34mstringr\u001b[39m 1.4.0\n",
            "\u001b[32m✔\u001b[39m \u001b[34mreadr  \u001b[39m 1.3.1     \u001b[32m✔\u001b[39m \u001b[34mforcats\u001b[39m 0.5.0\n",
            "\n",
            "── \u001b[1mConflicts\u001b[22m ────────────────────────────────────────── tidyverse_conflicts() ──\n",
            "\u001b[31m✖\u001b[39m \u001b[34mdplyr\u001b[39m::\u001b[32mfilter()\u001b[39m masks \u001b[34mstats\u001b[39m::filter()\n",
            "\u001b[31m✖\u001b[39m \u001b[34mdplyr\u001b[39m::\u001b[32mlag()\u001b[39m    masks \u001b[34mstats\u001b[39m::lag()\n",
            "\n"
          ],
          "name": "stderr"
        }
      ]
    },
    {
      "cell_type": "code",
      "metadata": {
        "id": "4vanC_OhzqyG",
        "colab_type": "code",
        "colab": {}
      },
      "source": [
        "# making an untidy tibble containing patient BMI measurements that we will tidy below in this notebook\n",
        "patient_data <- tibble(Patient = c(\"A\", \"B\", \"C\"),\n",
        "                        Month0 = c(21, 17, 29),\n",
        "                        Month3 = c(20, 21, 27),\n",
        "                        Month6 = c(21, 22, 23))"
      ],
      "execution_count": 2,
      "outputs": []
    },
    {
      "cell_type": "code",
      "metadata": {
        "id": "jJj5EcP82jvj",
        "colab_type": "code",
        "colab": {
          "base_uri": "https://localhost:8080/",
          "height": 143
        },
        "outputId": "05f6750a-ee2a-4f29-a560-81c95c30aaaf"
      },
      "source": [
        "patient_data"
      ],
      "execution_count": 3,
      "outputs": [
        {
          "output_type": "display_data",
          "data": {
            "text/plain": [
              "  Patient Month0 Month3 Month6\n",
              "1 A       21     20     21    \n",
              "2 B       17     21     22    \n",
              "3 C       29     27     23    "
            ],
            "text/latex": "A tibble: 3 × 4\n\\begin{tabular}{llll}\n Patient & Month0 & Month3 & Month6\\\\\n <chr> & <dbl> & <dbl> & <dbl>\\\\\n\\hline\n\t A & 21 & 20 & 21\\\\\n\t B & 17 & 21 & 22\\\\\n\t C & 29 & 27 & 23\\\\\n\\end{tabular}\n",
            "text/markdown": "\nA tibble: 3 × 4\n\n| Patient &lt;chr&gt; | Month0 &lt;dbl&gt; | Month3 &lt;dbl&gt; | Month6 &lt;dbl&gt; |\n|---|---|---|---|\n| A | 21 | 20 | 21 |\n| B | 17 | 21 | 22 |\n| C | 29 | 27 | 23 |\n\n",
            "text/html": [
              "<table>\n",
              "<caption>A tibble: 3 × 4</caption>\n",
              "<thead>\n",
              "\t<tr><th scope=col>Patient</th><th scope=col>Month0</th><th scope=col>Month3</th><th scope=col>Month6</th></tr>\n",
              "\t<tr><th scope=col>&lt;chr&gt;</th><th scope=col>&lt;dbl&gt;</th><th scope=col>&lt;dbl&gt;</th><th scope=col>&lt;dbl&gt;</th></tr>\n",
              "</thead>\n",
              "<tbody>\n",
              "\t<tr><td>A</td><td>21</td><td>20</td><td>21</td></tr>\n",
              "\t<tr><td>B</td><td>17</td><td>21</td><td>22</td></tr>\n",
              "\t<tr><td>C</td><td>29</td><td>27</td><td>23</td></tr>\n",
              "</tbody>\n",
              "</table>\n"
            ]
          },
          "metadata": {
            "tags": []
          }
        }
      ]
    },
    {
      "cell_type": "code",
      "metadata": {
        "id": "Jghwc4UO2m4N",
        "colab_type": "code",
        "colab": {}
      },
      "source": [
        "# gather all the Month columns into a single column and put their values in a new col called \"BMI\"\n",
        "# note that \"-Patient\" means use all columns except Patient for the gather operation\n",
        "patient_data_tidy <- gather(patient_data, key = Month, value = BMI, -Patient)"
      ],
      "execution_count": 4,
      "outputs": []
    },
    {
      "cell_type": "code",
      "metadata": {
        "id": "m0JjaLUh4orW",
        "colab_type": "code",
        "colab": {
          "base_uri": "https://localhost:8080/",
          "height": 271
        },
        "outputId": "ef138ed8-90a2-415e-b3dd-aa10ea841a26"
      },
      "source": [
        "patient_data_tidy"
      ],
      "execution_count": 5,
      "outputs": [
        {
          "output_type": "display_data",
          "data": {
            "text/plain": [
              "  Patient Month  BMI\n",
              "1 A       Month0 21 \n",
              "2 B       Month0 17 \n",
              "3 C       Month0 29 \n",
              "4 A       Month3 20 \n",
              "5 B       Month3 21 \n",
              "6 C       Month3 27 \n",
              "7 A       Month6 21 \n",
              "8 B       Month6 22 \n",
              "9 C       Month6 23 "
            ],
            "text/latex": "A tibble: 9 × 3\n\\begin{tabular}{lll}\n Patient & Month & BMI\\\\\n <chr> & <chr> & <dbl>\\\\\n\\hline\n\t A & Month0 & 21\\\\\n\t B & Month0 & 17\\\\\n\t C & Month0 & 29\\\\\n\t A & Month3 & 20\\\\\n\t B & Month3 & 21\\\\\n\t C & Month3 & 27\\\\\n\t A & Month6 & 21\\\\\n\t B & Month6 & 22\\\\\n\t C & Month6 & 23\\\\\n\\end{tabular}\n",
            "text/markdown": "\nA tibble: 9 × 3\n\n| Patient &lt;chr&gt; | Month &lt;chr&gt; | BMI &lt;dbl&gt; |\n|---|---|---|\n| A | Month0 | 21 |\n| B | Month0 | 17 |\n| C | Month0 | 29 |\n| A | Month3 | 20 |\n| B | Month3 | 21 |\n| C | Month3 | 27 |\n| A | Month6 | 21 |\n| B | Month6 | 22 |\n| C | Month6 | 23 |\n\n",
            "text/html": [
              "<table>\n",
              "<caption>A tibble: 9 × 3</caption>\n",
              "<thead>\n",
              "\t<tr><th scope=col>Patient</th><th scope=col>Month</th><th scope=col>BMI</th></tr>\n",
              "\t<tr><th scope=col>&lt;chr&gt;</th><th scope=col>&lt;chr&gt;</th><th scope=col>&lt;dbl&gt;</th></tr>\n",
              "</thead>\n",
              "<tbody>\n",
              "\t<tr><td>A</td><td>Month0</td><td>21</td></tr>\n",
              "\t<tr><td>B</td><td>Month0</td><td>17</td></tr>\n",
              "\t<tr><td>C</td><td>Month0</td><td>29</td></tr>\n",
              "\t<tr><td>A</td><td>Month3</td><td>20</td></tr>\n",
              "\t<tr><td>B</td><td>Month3</td><td>21</td></tr>\n",
              "\t<tr><td>C</td><td>Month3</td><td>27</td></tr>\n",
              "\t<tr><td>A</td><td>Month6</td><td>21</td></tr>\n",
              "\t<tr><td>B</td><td>Month6</td><td>22</td></tr>\n",
              "\t<tr><td>C</td><td>Month6</td><td>23</td></tr>\n",
              "</tbody>\n",
              "</table>\n"
            ]
          },
          "metadata": {
            "tags": []
          }
        }
      ]
    },
    {
      "cell_type": "code",
      "metadata": {
        "id": "YRh7gKbJ4v_9",
        "colab_type": "code",
        "colab": {}
      },
      "source": [
        "# alternative way to gather all the Month columns into a single column and put their values in a new col called \"BMI\"\n",
        "patient_data_tidy <- gather(patient_data, key = Month, value = BMI, Month0:Month6)"
      ],
      "execution_count": 6,
      "outputs": []
    },
    {
      "cell_type": "code",
      "metadata": {
        "id": "MtMVO7tg5EZD",
        "colab_type": "code",
        "colab": {
          "base_uri": "https://localhost:8080/",
          "height": 271
        },
        "outputId": "755ec015-7354-4d53-9e52-3f18b2b9bfe3"
      },
      "source": [
        "patient_data_tidy"
      ],
      "execution_count": 7,
      "outputs": [
        {
          "output_type": "display_data",
          "data": {
            "text/plain": [
              "  Patient Month  BMI\n",
              "1 A       Month0 21 \n",
              "2 B       Month0 17 \n",
              "3 C       Month0 29 \n",
              "4 A       Month3 20 \n",
              "5 B       Month3 21 \n",
              "6 C       Month3 27 \n",
              "7 A       Month6 21 \n",
              "8 B       Month6 22 \n",
              "9 C       Month6 23 "
            ],
            "text/latex": "A tibble: 9 × 3\n\\begin{tabular}{lll}\n Patient & Month & BMI\\\\\n <chr> & <chr> & <dbl>\\\\\n\\hline\n\t A & Month0 & 21\\\\\n\t B & Month0 & 17\\\\\n\t C & Month0 & 29\\\\\n\t A & Month3 & 20\\\\\n\t B & Month3 & 21\\\\\n\t C & Month3 & 27\\\\\n\t A & Month6 & 21\\\\\n\t B & Month6 & 22\\\\\n\t C & Month6 & 23\\\\\n\\end{tabular}\n",
            "text/markdown": "\nA tibble: 9 × 3\n\n| Patient &lt;chr&gt; | Month &lt;chr&gt; | BMI &lt;dbl&gt; |\n|---|---|---|\n| A | Month0 | 21 |\n| B | Month0 | 17 |\n| C | Month0 | 29 |\n| A | Month3 | 20 |\n| B | Month3 | 21 |\n| C | Month3 | 27 |\n| A | Month6 | 21 |\n| B | Month6 | 22 |\n| C | Month6 | 23 |\n\n",
            "text/html": [
              "<table>\n",
              "<caption>A tibble: 9 × 3</caption>\n",
              "<thead>\n",
              "\t<tr><th scope=col>Patient</th><th scope=col>Month</th><th scope=col>BMI</th></tr>\n",
              "\t<tr><th scope=col>&lt;chr&gt;</th><th scope=col>&lt;chr&gt;</th><th scope=col>&lt;dbl&gt;</th></tr>\n",
              "</thead>\n",
              "<tbody>\n",
              "\t<tr><td>A</td><td>Month0</td><td>21</td></tr>\n",
              "\t<tr><td>B</td><td>Month0</td><td>17</td></tr>\n",
              "\t<tr><td>C</td><td>Month0</td><td>29</td></tr>\n",
              "\t<tr><td>A</td><td>Month3</td><td>20</td></tr>\n",
              "\t<tr><td>B</td><td>Month3</td><td>21</td></tr>\n",
              "\t<tr><td>C</td><td>Month3</td><td>27</td></tr>\n",
              "\t<tr><td>A</td><td>Month6</td><td>21</td></tr>\n",
              "\t<tr><td>B</td><td>Month6</td><td>22</td></tr>\n",
              "\t<tr><td>C</td><td>Month6</td><td>23</td></tr>\n",
              "</tbody>\n",
              "</table>\n"
            ]
          },
          "metadata": {
            "tags": []
          }
        }
      ]
    },
    {
      "cell_type": "code",
      "metadata": {
        "id": "B87ZE1ck5GHY",
        "colab_type": "code",
        "colab": {}
      },
      "source": [
        ""
      ],
      "execution_count": null,
      "outputs": []
    }
  ]
}