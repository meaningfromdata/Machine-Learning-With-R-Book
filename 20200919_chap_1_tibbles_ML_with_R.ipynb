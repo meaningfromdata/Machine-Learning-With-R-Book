{
  "nbformat": 4,
  "nbformat_minor": 0,
  "metadata": {
    "colab": {
      "name": "20200919_chap_1_tibbles_ML_with_R.ipynb",
      "provenance": [],
      "collapsed_sections": [],
      "authorship_tag": "ABX9TyMrrrAAlrQlSrASrxm8Or0K",
      "include_colab_link": true
    },
    "kernelspec": {
      "name": "ir",
      "display_name": "R"
    }
  },
  "cells": [
    {
      "cell_type": "markdown",
      "metadata": {
        "id": "view-in-github",
        "colab_type": "text"
      },
      "source": [
        "<a href=\"https://colab.research.google.com/github/meaningfromdata/Machine-Learning-With-R-Book/blob/master/20200919_chap_1_tibbles_ML_with_R.ipynb\" target=\"_parent\"><img src=\"https://colab.research.google.com/assets/colab-badge.svg\" alt=\"Open In Colab\"/></a>"
      ]
    },
    {
      "cell_type": "code",
      "metadata": {
        "id": "s_1Qy-qL4iut",
        "colab_type": "code",
        "colab": {
          "base_uri": "https://localhost:8080/",
          "height": 208
        },
        "outputId": "585ff838-6262-4bf9-8502-25130b98416c"
      },
      "source": [
        "library(tidyverse)"
      ],
      "execution_count": 1,
      "outputs": [
        {
          "output_type": "stream",
          "text": [
            "── \u001b[1mAttaching packages\u001b[22m ─────────────────────────────────────── tidyverse 1.3.0 ──\n",
            "\n",
            "\u001b[32m✔\u001b[39m \u001b[34mggplot2\u001b[39m 3.3.2     \u001b[32m✔\u001b[39m \u001b[34mpurrr  \u001b[39m 0.3.4\n",
            "\u001b[32m✔\u001b[39m \u001b[34mtibble \u001b[39m 3.0.3     \u001b[32m✔\u001b[39m \u001b[34mdplyr  \u001b[39m 1.0.2\n",
            "\u001b[32m✔\u001b[39m \u001b[34mtidyr  \u001b[39m 1.1.2     \u001b[32m✔\u001b[39m \u001b[34mstringr\u001b[39m 1.4.0\n",
            "\u001b[32m✔\u001b[39m \u001b[34mreadr  \u001b[39m 1.3.1     \u001b[32m✔\u001b[39m \u001b[34mforcats\u001b[39m 0.5.0\n",
            "\n",
            "── \u001b[1mConflicts\u001b[22m ────────────────────────────────────────── tidyverse_conflicts() ──\n",
            "\u001b[31m✖\u001b[39m \u001b[34mdplyr\u001b[39m::\u001b[32mfilter()\u001b[39m masks \u001b[34mstats\u001b[39m::filter()\n",
            "\u001b[31m✖\u001b[39m \u001b[34mdplyr\u001b[39m::\u001b[32mlag()\u001b[39m    masks \u001b[34mstats\u001b[39m::lag()\n",
            "\n"
          ],
          "name": "stderr"
        }
      ]
    },
    {
      "cell_type": "code",
      "metadata": {
        "id": "ZmfiImnR5_UH",
        "colab_type": "code",
        "colab": {}
      },
      "source": [
        "# browse built-in datasets\n",
        "data()"
      ],
      "execution_count": 7,
      "outputs": []
    },
    {
      "cell_type": "code",
      "metadata": {
        "id": "3hT1Ciyo6iVe",
        "colab_type": "code",
        "colab": {}
      },
      "source": [
        "# load CO2 dataset\n",
        "data(CO2)"
      ],
      "execution_count": 8,
      "outputs": []
    },
    {
      "cell_type": "code",
      "metadata": {
        "id": "XJ6APCoE66cs",
        "colab_type": "code",
        "colab": {}
      },
      "source": [
        "# convert CO2 data.frame to tibble\n",
        "CO2_tib <- as_tibble(CO2) "
      ],
      "execution_count": 9,
      "outputs": []
    },
    {
      "cell_type": "code",
      "metadata": {
        "id": "xQgip4_oRH5B",
        "colab_type": "code",
        "colab": {
          "base_uri": "https://localhost:8080/",
          "height": 34
        },
        "outputId": "c59d465f-0f09-44a1-9000-17ceb08763ac"
      },
      "source": [
        "# get dimensions of tibble\n",
        "dim(CO2_tib)"
      ],
      "execution_count": 21,
      "outputs": [
        {
          "output_type": "display_data",
          "data": {
            "text/plain": [
              "[1] 84  5"
            ],
            "text/latex": "\\begin{enumerate*}\n\\item 84\n\\item 5\n\\end{enumerate*}\n",
            "text/markdown": "1. 84\n2. 5\n\n\n",
            "text/html": [
              "<style>\n",
              ".list-inline {list-style: none; margin:0; padding: 0}\n",
              ".list-inline>li {display: inline-block}\n",
              ".list-inline>li:not(:last-child)::after {content: \"\\00b7\"; padding: 0 .5ex}\n",
              "</style>\n",
              "<ol class=list-inline><li>84</li><li>5</li></ol>\n"
            ]
          },
          "metadata": {
            "tags": []
          }
        }
      ]
    },
    {
      "cell_type": "code",
      "metadata": {
        "id": "wzaS1JBnPWRM",
        "colab_type": "code",
        "colab": {
          "base_uri": "https://localhost:8080/",
          "height": 207
        },
        "outputId": "18b39ab0-0067-4532-9380-a2017a90a790"
      },
      "source": [
        "# inspect top rowos of tibble\n",
        "head(CO2_tib)"
      ],
      "execution_count": 11,
      "outputs": [
        {
          "output_type": "display_data",
          "data": {
            "text/plain": [
              "  Plant Type   Treatment  conc uptake\n",
              "1 Qn1   Quebec nonchilled  95  16.0  \n",
              "2 Qn1   Quebec nonchilled 175  30.4  \n",
              "3 Qn1   Quebec nonchilled 250  34.8  \n",
              "4 Qn1   Quebec nonchilled 350  37.2  \n",
              "5 Qn1   Quebec nonchilled 500  35.3  \n",
              "6 Qn1   Quebec nonchilled 675  39.2  "
            ],
            "text/latex": "A tibble: 6 × 5\n\\begin{tabular}{lllll}\n Plant & Type & Treatment & conc & uptake\\\\\n <ord> & <fct> & <fct> & <dbl> & <dbl>\\\\\n\\hline\n\t Qn1 & Quebec & nonchilled &  95 & 16.0\\\\\n\t Qn1 & Quebec & nonchilled & 175 & 30.4\\\\\n\t Qn1 & Quebec & nonchilled & 250 & 34.8\\\\\n\t Qn1 & Quebec & nonchilled & 350 & 37.2\\\\\n\t Qn1 & Quebec & nonchilled & 500 & 35.3\\\\\n\t Qn1 & Quebec & nonchilled & 675 & 39.2\\\\\n\\end{tabular}\n",
            "text/markdown": "\nA tibble: 6 × 5\n\n| Plant &lt;ord&gt; | Type &lt;fct&gt; | Treatment &lt;fct&gt; | conc &lt;dbl&gt; | uptake &lt;dbl&gt; |\n|---|---|---|---|---|\n| Qn1 | Quebec | nonchilled |  95 | 16.0 |\n| Qn1 | Quebec | nonchilled | 175 | 30.4 |\n| Qn1 | Quebec | nonchilled | 250 | 34.8 |\n| Qn1 | Quebec | nonchilled | 350 | 37.2 |\n| Qn1 | Quebec | nonchilled | 500 | 35.3 |\n| Qn1 | Quebec | nonchilled | 675 | 39.2 |\n\n",
            "text/html": [
              "<table>\n",
              "<caption>A tibble: 6 × 5</caption>\n",
              "<thead>\n",
              "\t<tr><th scope=col>Plant</th><th scope=col>Type</th><th scope=col>Treatment</th><th scope=col>conc</th><th scope=col>uptake</th></tr>\n",
              "\t<tr><th scope=col>&lt;ord&gt;</th><th scope=col>&lt;fct&gt;</th><th scope=col>&lt;fct&gt;</th><th scope=col>&lt;dbl&gt;</th><th scope=col>&lt;dbl&gt;</th></tr>\n",
              "</thead>\n",
              "<tbody>\n",
              "\t<tr><td>Qn1</td><td>Quebec</td><td>nonchilled</td><td> 95</td><td>16.0</td></tr>\n",
              "\t<tr><td>Qn1</td><td>Quebec</td><td>nonchilled</td><td>175</td><td>30.4</td></tr>\n",
              "\t<tr><td>Qn1</td><td>Quebec</td><td>nonchilled</td><td>250</td><td>34.8</td></tr>\n",
              "\t<tr><td>Qn1</td><td>Quebec</td><td>nonchilled</td><td>350</td><td>37.2</td></tr>\n",
              "\t<tr><td>Qn1</td><td>Quebec</td><td>nonchilled</td><td>500</td><td>35.3</td></tr>\n",
              "\t<tr><td>Qn1</td><td>Quebec</td><td>nonchilled</td><td>675</td><td>39.2</td></tr>\n",
              "</tbody>\n",
              "</table>\n"
            ]
          },
          "metadata": {
            "tags": []
          }
        }
      ]
    },
    {
      "cell_type": "code",
      "metadata": {
        "id": "CxlLCvVlPcjg",
        "colab_type": "code",
        "colab": {}
      },
      "source": [
        "# select only cols of interest\n",
        "selected_data <- select(CO2_tib, c(1, 2, 3, 5))"
      ],
      "execution_count": 13,
      "outputs": []
    },
    {
      "cell_type": "code",
      "metadata": {
        "id": "GuSgUgwpPuQp",
        "colab_type": "code",
        "colab": {
          "base_uri": "https://localhost:8080/",
          "height": 207
        },
        "outputId": "7eed207c-a84d-4fd1-a8ff-a8e355dd8b1d"
      },
      "source": [
        "head(selected_data)"
      ],
      "execution_count": 14,
      "outputs": [
        {
          "output_type": "display_data",
          "data": {
            "text/plain": [
              "  Plant Type   Treatment  uptake\n",
              "1 Qn1   Quebec nonchilled 16.0  \n",
              "2 Qn1   Quebec nonchilled 30.4  \n",
              "3 Qn1   Quebec nonchilled 34.8  \n",
              "4 Qn1   Quebec nonchilled 37.2  \n",
              "5 Qn1   Quebec nonchilled 35.3  \n",
              "6 Qn1   Quebec nonchilled 39.2  "
            ],
            "text/latex": "A tibble: 6 × 4\n\\begin{tabular}{llll}\n Plant & Type & Treatment & uptake\\\\\n <ord> & <fct> & <fct> & <dbl>\\\\\n\\hline\n\t Qn1 & Quebec & nonchilled & 16.0\\\\\n\t Qn1 & Quebec & nonchilled & 30.4\\\\\n\t Qn1 & Quebec & nonchilled & 34.8\\\\\n\t Qn1 & Quebec & nonchilled & 37.2\\\\\n\t Qn1 & Quebec & nonchilled & 35.3\\\\\n\t Qn1 & Quebec & nonchilled & 39.2\\\\\n\\end{tabular}\n",
            "text/markdown": "\nA tibble: 6 × 4\n\n| Plant &lt;ord&gt; | Type &lt;fct&gt; | Treatment &lt;fct&gt; | uptake &lt;dbl&gt; |\n|---|---|---|---|\n| Qn1 | Quebec | nonchilled | 16.0 |\n| Qn1 | Quebec | nonchilled | 30.4 |\n| Qn1 | Quebec | nonchilled | 34.8 |\n| Qn1 | Quebec | nonchilled | 37.2 |\n| Qn1 | Quebec | nonchilled | 35.3 |\n| Qn1 | Quebec | nonchilled | 39.2 |\n\n",
            "text/html": [
              "<table>\n",
              "<caption>A tibble: 6 × 4</caption>\n",
              "<thead>\n",
              "\t<tr><th scope=col>Plant</th><th scope=col>Type</th><th scope=col>Treatment</th><th scope=col>uptake</th></tr>\n",
              "\t<tr><th scope=col>&lt;ord&gt;</th><th scope=col>&lt;fct&gt;</th><th scope=col>&lt;fct&gt;</th><th scope=col>&lt;dbl&gt;</th></tr>\n",
              "</thead>\n",
              "<tbody>\n",
              "\t<tr><td>Qn1</td><td>Quebec</td><td>nonchilled</td><td>16.0</td></tr>\n",
              "\t<tr><td>Qn1</td><td>Quebec</td><td>nonchilled</td><td>30.4</td></tr>\n",
              "\t<tr><td>Qn1</td><td>Quebec</td><td>nonchilled</td><td>34.8</td></tr>\n",
              "\t<tr><td>Qn1</td><td>Quebec</td><td>nonchilled</td><td>37.2</td></tr>\n",
              "\t<tr><td>Qn1</td><td>Quebec</td><td>nonchilled</td><td>35.3</td></tr>\n",
              "\t<tr><td>Qn1</td><td>Quebec</td><td>nonchilled</td><td>39.2</td></tr>\n",
              "</tbody>\n",
              "</table>\n"
            ]
          },
          "metadata": {
            "tags": []
          }
        }
      ]
    },
    {
      "cell_type": "code",
      "metadata": {
        "id": "8K9N82fNP1-x",
        "colab_type": "code",
        "colab": {}
      },
      "source": [
        "# filter data based on col of interest (uptake)\n",
        "filtered_data <- filter(selected_data, uptake > 16)"
      ],
      "execution_count": 15,
      "outputs": []
    },
    {
      "cell_type": "code",
      "metadata": {
        "id": "NoCpJ4SpQj1o",
        "colab_type": "code",
        "colab": {
          "base_uri": "https://localhost:8080/",
          "height": 207
        },
        "outputId": "75b85da6-527c-489f-b0ac-c3b6a8c428cd"
      },
      "source": [
        "head(filtered_data)"
      ],
      "execution_count": 17,
      "outputs": [
        {
          "output_type": "display_data",
          "data": {
            "text/plain": [
              "  Plant Type   Treatment  uptake\n",
              "1 Qn1   Quebec nonchilled 30.4  \n",
              "2 Qn1   Quebec nonchilled 34.8  \n",
              "3 Qn1   Quebec nonchilled 37.2  \n",
              "4 Qn1   Quebec nonchilled 35.3  \n",
              "5 Qn1   Quebec nonchilled 39.2  \n",
              "6 Qn1   Quebec nonchilled 39.7  "
            ],
            "text/latex": "A tibble: 6 × 4\n\\begin{tabular}{llll}\n Plant & Type & Treatment & uptake\\\\\n <ord> & <fct> & <fct> & <dbl>\\\\\n\\hline\n\t Qn1 & Quebec & nonchilled & 30.4\\\\\n\t Qn1 & Quebec & nonchilled & 34.8\\\\\n\t Qn1 & Quebec & nonchilled & 37.2\\\\\n\t Qn1 & Quebec & nonchilled & 35.3\\\\\n\t Qn1 & Quebec & nonchilled & 39.2\\\\\n\t Qn1 & Quebec & nonchilled & 39.7\\\\\n\\end{tabular}\n",
            "text/markdown": "\nA tibble: 6 × 4\n\n| Plant &lt;ord&gt; | Type &lt;fct&gt; | Treatment &lt;fct&gt; | uptake &lt;dbl&gt; |\n|---|---|---|---|\n| Qn1 | Quebec | nonchilled | 30.4 |\n| Qn1 | Quebec | nonchilled | 34.8 |\n| Qn1 | Quebec | nonchilled | 37.2 |\n| Qn1 | Quebec | nonchilled | 35.3 |\n| Qn1 | Quebec | nonchilled | 39.2 |\n| Qn1 | Quebec | nonchilled | 39.7 |\n\n",
            "text/html": [
              "<table>\n",
              "<caption>A tibble: 6 × 4</caption>\n",
              "<thead>\n",
              "\t<tr><th scope=col>Plant</th><th scope=col>Type</th><th scope=col>Treatment</th><th scope=col>uptake</th></tr>\n",
              "\t<tr><th scope=col>&lt;ord&gt;</th><th scope=col>&lt;fct&gt;</th><th scope=col>&lt;fct&gt;</th><th scope=col>&lt;dbl&gt;</th></tr>\n",
              "</thead>\n",
              "<tbody>\n",
              "\t<tr><td>Qn1</td><td>Quebec</td><td>nonchilled</td><td>30.4</td></tr>\n",
              "\t<tr><td>Qn1</td><td>Quebec</td><td>nonchilled</td><td>34.8</td></tr>\n",
              "\t<tr><td>Qn1</td><td>Quebec</td><td>nonchilled</td><td>37.2</td></tr>\n",
              "\t<tr><td>Qn1</td><td>Quebec</td><td>nonchilled</td><td>35.3</td></tr>\n",
              "\t<tr><td>Qn1</td><td>Quebec</td><td>nonchilled</td><td>39.2</td></tr>\n",
              "\t<tr><td>Qn1</td><td>Quebec</td><td>nonchilled</td><td>39.7</td></tr>\n",
              "</tbody>\n",
              "</table>\n"
            ]
          },
          "metadata": {
            "tags": []
          }
        }
      ]
    },
    {
      "cell_type": "code",
      "metadata": {
        "id": "Z4n-cHpHQmWA",
        "colab_type": "code",
        "colab": {}
      },
      "source": [
        "# group data by col of interest (Plant)\n",
        "grouped_data <- group_by(filtered_data, Plant)"
      ],
      "execution_count": 22,
      "outputs": []
    },
    {
      "cell_type": "code",
      "metadata": {
        "id": "4jT4WhfIQ3V1",
        "colab_type": "code",
        "colab": {
          "base_uri": "https://localhost:8080/",
          "height": 207
        },
        "outputId": "2ff51f6a-f017-4151-97ab-9634a9b38033"
      },
      "source": [
        "head(grouped_Data)"
      ],
      "execution_count": 19,
      "outputs": [
        {
          "output_type": "display_data",
          "data": {
            "text/plain": [
              "  Plant Type   Treatment  uptake\n",
              "1 Qn1   Quebec nonchilled 30.4  \n",
              "2 Qn1   Quebec nonchilled 34.8  \n",
              "3 Qn1   Quebec nonchilled 37.2  \n",
              "4 Qn1   Quebec nonchilled 35.3  \n",
              "5 Qn1   Quebec nonchilled 39.2  \n",
              "6 Qn1   Quebec nonchilled 39.7  "
            ],
            "text/latex": "A grouped\\_df: 6 × 4\n\\begin{tabular}{llll}\n Plant & Type & Treatment & uptake\\\\\n <ord> & <fct> & <fct> & <dbl>\\\\\n\\hline\n\t Qn1 & Quebec & nonchilled & 30.4\\\\\n\t Qn1 & Quebec & nonchilled & 34.8\\\\\n\t Qn1 & Quebec & nonchilled & 37.2\\\\\n\t Qn1 & Quebec & nonchilled & 35.3\\\\\n\t Qn1 & Quebec & nonchilled & 39.2\\\\\n\t Qn1 & Quebec & nonchilled & 39.7\\\\\n\\end{tabular}\n",
            "text/markdown": "\nA grouped_df: 6 × 4\n\n| Plant &lt;ord&gt; | Type &lt;fct&gt; | Treatment &lt;fct&gt; | uptake &lt;dbl&gt; |\n|---|---|---|---|\n| Qn1 | Quebec | nonchilled | 30.4 |\n| Qn1 | Quebec | nonchilled | 34.8 |\n| Qn1 | Quebec | nonchilled | 37.2 |\n| Qn1 | Quebec | nonchilled | 35.3 |\n| Qn1 | Quebec | nonchilled | 39.2 |\n| Qn1 | Quebec | nonchilled | 39.7 |\n\n",
            "text/html": [
              "<table>\n",
              "<caption>A grouped_df: 6 × 4</caption>\n",
              "<thead>\n",
              "\t<tr><th scope=col>Plant</th><th scope=col>Type</th><th scope=col>Treatment</th><th scope=col>uptake</th></tr>\n",
              "\t<tr><th scope=col>&lt;ord&gt;</th><th scope=col>&lt;fct&gt;</th><th scope=col>&lt;fct&gt;</th><th scope=col>&lt;dbl&gt;</th></tr>\n",
              "</thead>\n",
              "<tbody>\n",
              "\t<tr><td>Qn1</td><td>Quebec</td><td>nonchilled</td><td>30.4</td></tr>\n",
              "\t<tr><td>Qn1</td><td>Quebec</td><td>nonchilled</td><td>34.8</td></tr>\n",
              "\t<tr><td>Qn1</td><td>Quebec</td><td>nonchilled</td><td>37.2</td></tr>\n",
              "\t<tr><td>Qn1</td><td>Quebec</td><td>nonchilled</td><td>35.3</td></tr>\n",
              "\t<tr><td>Qn1</td><td>Quebec</td><td>nonchilled</td><td>39.2</td></tr>\n",
              "\t<tr><td>Qn1</td><td>Quebec</td><td>nonchilled</td><td>39.7</td></tr>\n",
              "</tbody>\n",
              "</table>\n"
            ]
          },
          "metadata": {
            "tags": []
          }
        }
      ]
    },
    {
      "cell_type": "code",
      "metadata": {
        "id": "XhK7R0FzQ6J6",
        "colab_type": "code",
        "colab": {
          "base_uri": "https://localhost:8080/",
          "height": 34
        },
        "outputId": "76db100b-c112-4347-825e-96d8648a4e4b"
      },
      "source": [
        "dim(grouped_Data)"
      ],
      "execution_count": 23,
      "outputs": [
        {
          "output_type": "display_data",
          "data": {
            "text/plain": [
              "[1] 66  4"
            ],
            "text/latex": "\\begin{enumerate*}\n\\item 66\n\\item 4\n\\end{enumerate*}\n",
            "text/markdown": "1. 66\n2. 4\n\n\n",
            "text/html": [
              "<style>\n",
              ".list-inline {list-style: none; margin:0; padding: 0}\n",
              ".list-inline>li {display: inline-block}\n",
              ".list-inline>li:not(:last-child)::after {content: \"\\00b7\"; padding: 0 .5ex}\n",
              "</style>\n",
              "<ol class=list-inline><li>66</li><li>4</li></ol>\n"
            ]
          },
          "metadata": {
            "tags": []
          }
        }
      ]
    },
    {
      "cell_type": "code",
      "metadata": {
        "id": "Wtdm-DSjT4CM",
        "colab_type": "code",
        "colab": {
          "base_uri": "https://localhost:8080/",
          "height": 52
        },
        "outputId": "c678114a-48f3-49fd-b9eb-e2f89c72469e"
      },
      "source": [
        "# summarize grouped_data tibble by getting the mean and sd of the uptake column for each group\n",
        "summarized_data <- summarize(grouped_data, uptake_mean=mean(uptake), uptake_sd=sd(uptake))"
      ],
      "execution_count": 24,
      "outputs": [
        {
          "output_type": "stream",
          "text": [
            "`summarise()` ungrouping output (override with `.groups` argument)\n",
            "\n"
          ],
          "name": "stderr"
        }
      ]
    },
    {
      "cell_type": "code",
      "metadata": {
        "id": "hopWMNMuU4OH",
        "colab_type": "code",
        "colab": {
          "base_uri": "https://localhost:8080/",
          "height": 314
        },
        "outputId": "e100ee03-64e0-48db-bb47-6f3022efeb4a"
      },
      "source": [
        "summarized_data"
      ],
      "execution_count": 25,
      "outputs": [
        {
          "output_type": "display_data",
          "data": {
            "text/plain": [
              "   Plant uptake_mean uptake_sd \n",
              "1  Qn1   36.10000     3.4234486\n",
              "2  Qn2   38.75000     6.0724789\n",
              "3  Qn3   37.61429    10.3499482\n",
              "4  Qc1   32.60000     5.0318983\n",
              "5  Qc3   35.50000     7.5158499\n",
              "6  Qc2   36.60000     5.1447060\n",
              "7  Mn3   26.25000     3.4852547\n",
              "8  Mn2   29.90000     3.9181628\n",
              "9  Mn1   29.03333     5.6972508\n",
              "10 Mc3   18.41667     0.8256311\n",
              "11 Mc1   20.12000     1.8335757"
            ],
            "text/latex": "A tibble: 11 × 3\n\\begin{tabular}{lll}\n Plant & uptake\\_mean & uptake\\_sd\\\\\n <ord> & <dbl> & <dbl>\\\\\n\\hline\n\t Qn1 & 36.10000 &  3.4234486\\\\\n\t Qn2 & 38.75000 &  6.0724789\\\\\n\t Qn3 & 37.61429 & 10.3499482\\\\\n\t Qc1 & 32.60000 &  5.0318983\\\\\n\t Qc3 & 35.50000 &  7.5158499\\\\\n\t Qc2 & 36.60000 &  5.1447060\\\\\n\t Mn3 & 26.25000 &  3.4852547\\\\\n\t Mn2 & 29.90000 &  3.9181628\\\\\n\t Mn1 & 29.03333 &  5.6972508\\\\\n\t Mc3 & 18.41667 &  0.8256311\\\\\n\t Mc1 & 20.12000 &  1.8335757\\\\\n\\end{tabular}\n",
            "text/markdown": "\nA tibble: 11 × 3\n\n| Plant &lt;ord&gt; | uptake_mean &lt;dbl&gt; | uptake_sd &lt;dbl&gt; |\n|---|---|---|\n| Qn1 | 36.10000 |  3.4234486 |\n| Qn2 | 38.75000 |  6.0724789 |\n| Qn3 | 37.61429 | 10.3499482 |\n| Qc1 | 32.60000 |  5.0318983 |\n| Qc3 | 35.50000 |  7.5158499 |\n| Qc2 | 36.60000 |  5.1447060 |\n| Mn3 | 26.25000 |  3.4852547 |\n| Mn2 | 29.90000 |  3.9181628 |\n| Mn1 | 29.03333 |  5.6972508 |\n| Mc3 | 18.41667 |  0.8256311 |\n| Mc1 | 20.12000 |  1.8335757 |\n\n",
            "text/html": [
              "<table>\n",
              "<caption>A tibble: 11 × 3</caption>\n",
              "<thead>\n",
              "\t<tr><th scope=col>Plant</th><th scope=col>uptake_mean</th><th scope=col>uptake_sd</th></tr>\n",
              "\t<tr><th scope=col>&lt;ord&gt;</th><th scope=col>&lt;dbl&gt;</th><th scope=col>&lt;dbl&gt;</th></tr>\n",
              "</thead>\n",
              "<tbody>\n",
              "\t<tr><td>Qn1</td><td>36.10000</td><td> 3.4234486</td></tr>\n",
              "\t<tr><td>Qn2</td><td>38.75000</td><td> 6.0724789</td></tr>\n",
              "\t<tr><td>Qn3</td><td>37.61429</td><td>10.3499482</td></tr>\n",
              "\t<tr><td>Qc1</td><td>32.60000</td><td> 5.0318983</td></tr>\n",
              "\t<tr><td>Qc3</td><td>35.50000</td><td> 7.5158499</td></tr>\n",
              "\t<tr><td>Qc2</td><td>36.60000</td><td> 5.1447060</td></tr>\n",
              "\t<tr><td>Mn3</td><td>26.25000</td><td> 3.4852547</td></tr>\n",
              "\t<tr><td>Mn2</td><td>29.90000</td><td> 3.9181628</td></tr>\n",
              "\t<tr><td>Mn1</td><td>29.03333</td><td> 5.6972508</td></tr>\n",
              "\t<tr><td>Mc3</td><td>18.41667</td><td> 0.8256311</td></tr>\n",
              "\t<tr><td>Mc1</td><td>20.12000</td><td> 1.8335757</td></tr>\n",
              "</tbody>\n",
              "</table>\n"
            ]
          },
          "metadata": {
            "tags": []
          }
        }
      ]
    },
    {
      "cell_type": "code",
      "metadata": {
        "id": "ow7GVMKUU_V1",
        "colab_type": "code",
        "colab": {}
      },
      "source": [
        "# add coefficient of variation column (CV) to summarized)_data that is derived from uptake_mean and uptake_sd cols\n",
        "mutated_data <- mutate(summarized_data, CV = (uptake_sd/uptake_mean))"
      ],
      "execution_count": 26,
      "outputs": []
    },
    {
      "cell_type": "code",
      "metadata": {
        "id": "7uAamOknVnYx",
        "colab_type": "code",
        "colab": {
          "base_uri": "https://localhost:8080/",
          "height": 314
        },
        "outputId": "868ce668-3f13-4135-9676-e9d492803fd4"
      },
      "source": [
        "mutated_data"
      ],
      "execution_count": 27,
      "outputs": [
        {
          "output_type": "display_data",
          "data": {
            "text/plain": [
              "   Plant uptake_mean uptake_sd  CV        \n",
              "1  Qn1   36.10000     3.4234486 0.09483237\n",
              "2  Qn2   38.75000     6.0724789 0.15670913\n",
              "3  Qn3   37.61429    10.3499482 0.27516004\n",
              "4  Qc1   32.60000     5.0318983 0.15435271\n",
              "5  Qc3   35.50000     7.5158499 0.21171408\n",
              "6  Qc2   36.60000     5.1447060 0.14056574\n",
              "7  Mn3   26.25000     3.4852547 0.13277161\n",
              "8  Mn2   29.90000     3.9181628 0.13104224\n",
              "9  Mn1   29.03333     5.6972508 0.19623137\n",
              "10 Mc3   18.41667     0.8256311 0.04483065\n",
              "11 Mc1   20.12000     1.8335757 0.09113200"
            ],
            "text/latex": "A tibble: 11 × 4\n\\begin{tabular}{llll}\n Plant & uptake\\_mean & uptake\\_sd & CV\\\\\n <ord> & <dbl> & <dbl> & <dbl>\\\\\n\\hline\n\t Qn1 & 36.10000 &  3.4234486 & 0.09483237\\\\\n\t Qn2 & 38.75000 &  6.0724789 & 0.15670913\\\\\n\t Qn3 & 37.61429 & 10.3499482 & 0.27516004\\\\\n\t Qc1 & 32.60000 &  5.0318983 & 0.15435271\\\\\n\t Qc3 & 35.50000 &  7.5158499 & 0.21171408\\\\\n\t Qc2 & 36.60000 &  5.1447060 & 0.14056574\\\\\n\t Mn3 & 26.25000 &  3.4852547 & 0.13277161\\\\\n\t Mn2 & 29.90000 &  3.9181628 & 0.13104224\\\\\n\t Mn1 & 29.03333 &  5.6972508 & 0.19623137\\\\\n\t Mc3 & 18.41667 &  0.8256311 & 0.04483065\\\\\n\t Mc1 & 20.12000 &  1.8335757 & 0.09113200\\\\\n\\end{tabular}\n",
            "text/markdown": "\nA tibble: 11 × 4\n\n| Plant &lt;ord&gt; | uptake_mean &lt;dbl&gt; | uptake_sd &lt;dbl&gt; | CV &lt;dbl&gt; |\n|---|---|---|---|\n| Qn1 | 36.10000 |  3.4234486 | 0.09483237 |\n| Qn2 | 38.75000 |  6.0724789 | 0.15670913 |\n| Qn3 | 37.61429 | 10.3499482 | 0.27516004 |\n| Qc1 | 32.60000 |  5.0318983 | 0.15435271 |\n| Qc3 | 35.50000 |  7.5158499 | 0.21171408 |\n| Qc2 | 36.60000 |  5.1447060 | 0.14056574 |\n| Mn3 | 26.25000 |  3.4852547 | 0.13277161 |\n| Mn2 | 29.90000 |  3.9181628 | 0.13104224 |\n| Mn1 | 29.03333 |  5.6972508 | 0.19623137 |\n| Mc3 | 18.41667 |  0.8256311 | 0.04483065 |\n| Mc1 | 20.12000 |  1.8335757 | 0.09113200 |\n\n",
            "text/html": [
              "<table>\n",
              "<caption>A tibble: 11 × 4</caption>\n",
              "<thead>\n",
              "\t<tr><th scope=col>Plant</th><th scope=col>uptake_mean</th><th scope=col>uptake_sd</th><th scope=col>CV</th></tr>\n",
              "\t<tr><th scope=col>&lt;ord&gt;</th><th scope=col>&lt;dbl&gt;</th><th scope=col>&lt;dbl&gt;</th><th scope=col>&lt;dbl&gt;</th></tr>\n",
              "</thead>\n",
              "<tbody>\n",
              "\t<tr><td>Qn1</td><td>36.10000</td><td> 3.4234486</td><td>0.09483237</td></tr>\n",
              "\t<tr><td>Qn2</td><td>38.75000</td><td> 6.0724789</td><td>0.15670913</td></tr>\n",
              "\t<tr><td>Qn3</td><td>37.61429</td><td>10.3499482</td><td>0.27516004</td></tr>\n",
              "\t<tr><td>Qc1</td><td>32.60000</td><td> 5.0318983</td><td>0.15435271</td></tr>\n",
              "\t<tr><td>Qc3</td><td>35.50000</td><td> 7.5158499</td><td>0.21171408</td></tr>\n",
              "\t<tr><td>Qc2</td><td>36.60000</td><td> 5.1447060</td><td>0.14056574</td></tr>\n",
              "\t<tr><td>Mn3</td><td>26.25000</td><td> 3.4852547</td><td>0.13277161</td></tr>\n",
              "\t<tr><td>Mn2</td><td>29.90000</td><td> 3.9181628</td><td>0.13104224</td></tr>\n",
              "\t<tr><td>Mn1</td><td>29.03333</td><td> 5.6972508</td><td>0.19623137</td></tr>\n",
              "\t<tr><td>Mc3</td><td>18.41667</td><td> 0.8256311</td><td>0.04483065</td></tr>\n",
              "\t<tr><td>Mc1</td><td>20.12000</td><td> 1.8335757</td><td>0.09113200</td></tr>\n",
              "</tbody>\n",
              "</table>\n"
            ]
          },
          "metadata": {
            "tags": []
          }
        }
      ]
    },
    {
      "cell_type": "code",
      "metadata": {
        "id": "i1-bNF2-VolH",
        "colab_type": "code",
        "colab": {}
      },
      "source": [
        "# sort rows (\"arrange data\") on CV ascending\n",
        "arranged_data <- arrange(mutated_data, CV)"
      ],
      "execution_count": 28,
      "outputs": []
    },
    {
      "cell_type": "code",
      "metadata": {
        "id": "5g3_9ZyyXLkW",
        "colab_type": "code",
        "colab": {
          "base_uri": "https://localhost:8080/",
          "height": 314
        },
        "outputId": "f15caf6d-500e-411c-957e-6c2153827a0a"
      },
      "source": [
        "arranged_data"
      ],
      "execution_count": 29,
      "outputs": [
        {
          "output_type": "display_data",
          "data": {
            "text/plain": [
              "   Plant uptake_mean uptake_sd  CV        \n",
              "1  Mc3   18.41667     0.8256311 0.04483065\n",
              "2  Mc1   20.12000     1.8335757 0.09113200\n",
              "3  Qn1   36.10000     3.4234486 0.09483237\n",
              "4  Mn2   29.90000     3.9181628 0.13104224\n",
              "5  Mn3   26.25000     3.4852547 0.13277161\n",
              "6  Qc2   36.60000     5.1447060 0.14056574\n",
              "7  Qc1   32.60000     5.0318983 0.15435271\n",
              "8  Qn2   38.75000     6.0724789 0.15670913\n",
              "9  Mn1   29.03333     5.6972508 0.19623137\n",
              "10 Qc3   35.50000     7.5158499 0.21171408\n",
              "11 Qn3   37.61429    10.3499482 0.27516004"
            ],
            "text/latex": "A tibble: 11 × 4\n\\begin{tabular}{llll}\n Plant & uptake\\_mean & uptake\\_sd & CV\\\\\n <ord> & <dbl> & <dbl> & <dbl>\\\\\n\\hline\n\t Mc3 & 18.41667 &  0.8256311 & 0.04483065\\\\\n\t Mc1 & 20.12000 &  1.8335757 & 0.09113200\\\\\n\t Qn1 & 36.10000 &  3.4234486 & 0.09483237\\\\\n\t Mn2 & 29.90000 &  3.9181628 & 0.13104224\\\\\n\t Mn3 & 26.25000 &  3.4852547 & 0.13277161\\\\\n\t Qc2 & 36.60000 &  5.1447060 & 0.14056574\\\\\n\t Qc1 & 32.60000 &  5.0318983 & 0.15435271\\\\\n\t Qn2 & 38.75000 &  6.0724789 & 0.15670913\\\\\n\t Mn1 & 29.03333 &  5.6972508 & 0.19623137\\\\\n\t Qc3 & 35.50000 &  7.5158499 & 0.21171408\\\\\n\t Qn3 & 37.61429 & 10.3499482 & 0.27516004\\\\\n\\end{tabular}\n",
            "text/markdown": "\nA tibble: 11 × 4\n\n| Plant &lt;ord&gt; | uptake_mean &lt;dbl&gt; | uptake_sd &lt;dbl&gt; | CV &lt;dbl&gt; |\n|---|---|---|---|\n| Mc3 | 18.41667 |  0.8256311 | 0.04483065 |\n| Mc1 | 20.12000 |  1.8335757 | 0.09113200 |\n| Qn1 | 36.10000 |  3.4234486 | 0.09483237 |\n| Mn2 | 29.90000 |  3.9181628 | 0.13104224 |\n| Mn3 | 26.25000 |  3.4852547 | 0.13277161 |\n| Qc2 | 36.60000 |  5.1447060 | 0.14056574 |\n| Qc1 | 32.60000 |  5.0318983 | 0.15435271 |\n| Qn2 | 38.75000 |  6.0724789 | 0.15670913 |\n| Mn1 | 29.03333 |  5.6972508 | 0.19623137 |\n| Qc3 | 35.50000 |  7.5158499 | 0.21171408 |\n| Qn3 | 37.61429 | 10.3499482 | 0.27516004 |\n\n",
            "text/html": [
              "<table>\n",
              "<caption>A tibble: 11 × 4</caption>\n",
              "<thead>\n",
              "\t<tr><th scope=col>Plant</th><th scope=col>uptake_mean</th><th scope=col>uptake_sd</th><th scope=col>CV</th></tr>\n",
              "\t<tr><th scope=col>&lt;ord&gt;</th><th scope=col>&lt;dbl&gt;</th><th scope=col>&lt;dbl&gt;</th><th scope=col>&lt;dbl&gt;</th></tr>\n",
              "</thead>\n",
              "<tbody>\n",
              "\t<tr><td>Mc3</td><td>18.41667</td><td> 0.8256311</td><td>0.04483065</td></tr>\n",
              "\t<tr><td>Mc1</td><td>20.12000</td><td> 1.8335757</td><td>0.09113200</td></tr>\n",
              "\t<tr><td>Qn1</td><td>36.10000</td><td> 3.4234486</td><td>0.09483237</td></tr>\n",
              "\t<tr><td>Mn2</td><td>29.90000</td><td> 3.9181628</td><td>0.13104224</td></tr>\n",
              "\t<tr><td>Mn3</td><td>26.25000</td><td> 3.4852547</td><td>0.13277161</td></tr>\n",
              "\t<tr><td>Qc2</td><td>36.60000</td><td> 5.1447060</td><td>0.14056574</td></tr>\n",
              "\t<tr><td>Qc1</td><td>32.60000</td><td> 5.0318983</td><td>0.15435271</td></tr>\n",
              "\t<tr><td>Qn2</td><td>38.75000</td><td> 6.0724789</td><td>0.15670913</td></tr>\n",
              "\t<tr><td>Mn1</td><td>29.03333</td><td> 5.6972508</td><td>0.19623137</td></tr>\n",
              "\t<tr><td>Qc3</td><td>35.50000</td><td> 7.5158499</td><td>0.21171408</td></tr>\n",
              "\t<tr><td>Qn3</td><td>37.61429</td><td>10.3499482</td><td>0.27516004</td></tr>\n",
              "</tbody>\n",
              "</table>\n"
            ]
          },
          "metadata": {
            "tags": []
          }
        }
      ]
    },
    {
      "cell_type": "code",
      "metadata": {
        "id": "iteRIAcIXNTE",
        "colab_type": "code",
        "colab": {
          "base_uri": "https://localhost:8080/",
          "height": 52
        },
        "outputId": "7ba52c8b-7619-4ca2-fbae-d754db61c69f"
      },
      "source": [
        "# using pipe to do all the above transformations on CO2_tib in single operation\n",
        "arranged_data_one_step <- CO2_tib %>%\n",
        "  select(c(1:3, 5)) %>%\n",
        "  filter(uptake > 16) %>%\n",
        "  group_by(Plant) %>%\n",
        "  summarize(uptake_mean = mean(uptake), uptake_sd = sd(uptake)) %>%\n",
        "  mutate(CV = (uptake_sd/uptake_mean)*100) %>%\n",
        "  arrange(CV)"
      ],
      "execution_count": 30,
      "outputs": [
        {
          "output_type": "stream",
          "text": [
            "`summarise()` ungrouping output (override with `.groups` argument)\n",
            "\n"
          ],
          "name": "stderr"
        }
      ]
    },
    {
      "cell_type": "code",
      "metadata": {
        "id": "sHIeEvwcbRvX",
        "colab_type": "code",
        "colab": {
          "base_uri": "https://localhost:8080/",
          "height": 314
        },
        "outputId": "5fb4a67d-3158-4f4e-cf1f-c4a2d6ff2ebd"
      },
      "source": [
        "# verifying output is same as above\n",
        "arranged_data_one_step"
      ],
      "execution_count": 31,
      "outputs": [
        {
          "output_type": "display_data",
          "data": {
            "text/plain": [
              "   Plant uptake_mean uptake_sd  CV       \n",
              "1  Mc3   18.41667     0.8256311  4.483065\n",
              "2  Mc1   20.12000     1.8335757  9.113200\n",
              "3  Qn1   36.10000     3.4234486  9.483237\n",
              "4  Mn2   29.90000     3.9181628 13.104224\n",
              "5  Mn3   26.25000     3.4852547 13.277161\n",
              "6  Qc2   36.60000     5.1447060 14.056574\n",
              "7  Qc1   32.60000     5.0318983 15.435271\n",
              "8  Qn2   38.75000     6.0724789 15.670913\n",
              "9  Mn1   29.03333     5.6972508 19.623137\n",
              "10 Qc3   35.50000     7.5158499 21.171408\n",
              "11 Qn3   37.61429    10.3499482 27.516004"
            ],
            "text/latex": "A tibble: 11 × 4\n\\begin{tabular}{llll}\n Plant & uptake\\_mean & uptake\\_sd & CV\\\\\n <ord> & <dbl> & <dbl> & <dbl>\\\\\n\\hline\n\t Mc3 & 18.41667 &  0.8256311 &  4.483065\\\\\n\t Mc1 & 20.12000 &  1.8335757 &  9.113200\\\\\n\t Qn1 & 36.10000 &  3.4234486 &  9.483237\\\\\n\t Mn2 & 29.90000 &  3.9181628 & 13.104224\\\\\n\t Mn3 & 26.25000 &  3.4852547 & 13.277161\\\\\n\t Qc2 & 36.60000 &  5.1447060 & 14.056574\\\\\n\t Qc1 & 32.60000 &  5.0318983 & 15.435271\\\\\n\t Qn2 & 38.75000 &  6.0724789 & 15.670913\\\\\n\t Mn1 & 29.03333 &  5.6972508 & 19.623137\\\\\n\t Qc3 & 35.50000 &  7.5158499 & 21.171408\\\\\n\t Qn3 & 37.61429 & 10.3499482 & 27.516004\\\\\n\\end{tabular}\n",
            "text/markdown": "\nA tibble: 11 × 4\n\n| Plant &lt;ord&gt; | uptake_mean &lt;dbl&gt; | uptake_sd &lt;dbl&gt; | CV &lt;dbl&gt; |\n|---|---|---|---|\n| Mc3 | 18.41667 |  0.8256311 |  4.483065 |\n| Mc1 | 20.12000 |  1.8335757 |  9.113200 |\n| Qn1 | 36.10000 |  3.4234486 |  9.483237 |\n| Mn2 | 29.90000 |  3.9181628 | 13.104224 |\n| Mn3 | 26.25000 |  3.4852547 | 13.277161 |\n| Qc2 | 36.60000 |  5.1447060 | 14.056574 |\n| Qc1 | 32.60000 |  5.0318983 | 15.435271 |\n| Qn2 | 38.75000 |  6.0724789 | 15.670913 |\n| Mn1 | 29.03333 |  5.6972508 | 19.623137 |\n| Qc3 | 35.50000 |  7.5158499 | 21.171408 |\n| Qn3 | 37.61429 | 10.3499482 | 27.516004 |\n\n",
            "text/html": [
              "<table>\n",
              "<caption>A tibble: 11 × 4</caption>\n",
              "<thead>\n",
              "\t<tr><th scope=col>Plant</th><th scope=col>uptake_mean</th><th scope=col>uptake_sd</th><th scope=col>CV</th></tr>\n",
              "\t<tr><th scope=col>&lt;ord&gt;</th><th scope=col>&lt;dbl&gt;</th><th scope=col>&lt;dbl&gt;</th><th scope=col>&lt;dbl&gt;</th></tr>\n",
              "</thead>\n",
              "<tbody>\n",
              "\t<tr><td>Mc3</td><td>18.41667</td><td> 0.8256311</td><td> 4.483065</td></tr>\n",
              "\t<tr><td>Mc1</td><td>20.12000</td><td> 1.8335757</td><td> 9.113200</td></tr>\n",
              "\t<tr><td>Qn1</td><td>36.10000</td><td> 3.4234486</td><td> 9.483237</td></tr>\n",
              "\t<tr><td>Mn2</td><td>29.90000</td><td> 3.9181628</td><td>13.104224</td></tr>\n",
              "\t<tr><td>Mn3</td><td>26.25000</td><td> 3.4852547</td><td>13.277161</td></tr>\n",
              "\t<tr><td>Qc2</td><td>36.60000</td><td> 5.1447060</td><td>14.056574</td></tr>\n",
              "\t<tr><td>Qc1</td><td>32.60000</td><td> 5.0318983</td><td>15.435271</td></tr>\n",
              "\t<tr><td>Qn2</td><td>38.75000</td><td> 6.0724789</td><td>15.670913</td></tr>\n",
              "\t<tr><td>Mn1</td><td>29.03333</td><td> 5.6972508</td><td>19.623137</td></tr>\n",
              "\t<tr><td>Qc3</td><td>35.50000</td><td> 7.5158499</td><td>21.171408</td></tr>\n",
              "\t<tr><td>Qn3</td><td>37.61429</td><td>10.3499482</td><td>27.516004</td></tr>\n",
              "</tbody>\n",
              "</table>\n"
            ]
          },
          "metadata": {
            "tags": []
          }
        }
      ]
    },
    {
      "cell_type": "code",
      "metadata": {
        "id": "fIm47QCmbUKo",
        "colab_type": "code",
        "colab": {}
      },
      "source": [
        ""
      ],
      "execution_count": null,
      "outputs": []
    }
  ]
}