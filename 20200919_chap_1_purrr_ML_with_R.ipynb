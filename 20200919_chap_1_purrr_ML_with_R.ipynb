{
  "nbformat": 4,
  "nbformat_minor": 0,
  "metadata": {
    "colab": {
      "name": "20200919_chap_1_purrr_ML_with_R.ipynb",
      "provenance": [],
      "collapsed_sections": [],
      "authorship_tag": "ABX9TyO4TKo6FMx2iIYc3ZTElR35",
      "include_colab_link": true
    },
    "kernelspec": {
      "name": "ir",
      "display_name": "R"
    }
  },
  "cells": [
    {
      "cell_type": "markdown",
      "metadata": {
        "id": "view-in-github",
        "colab_type": "text"
      },
      "source": [
        "<a href=\"https://colab.research.google.com/github/meaningfromdata/Machine-Learning-With-R-Book/blob/master/20200919_chap_1_purrr_ML_with_R.ipynb\" target=\"_parent\"><img src=\"https://colab.research.google.com/assets/colab-badge.svg\" alt=\"Open In Colab\"/></a>"
      ]
    },
    {
      "cell_type": "code",
      "metadata": {
        "id": "2VkHI9y_1KJ4",
        "colab_type": "code",
        "colab": {
          "base_uri": "https://localhost:8080/",
          "height": 208
        },
        "outputId": "98632b6f-8b5b-4623-af03-d7af666a961a"
      },
      "source": [
        "# colab.fan/r\n",
        "\n",
        "library(tidyverse)"
      ],
      "execution_count": 1,
      "outputs": [
        {
          "output_type": "stream",
          "text": [
            "── \u001b[1mAttaching packages\u001b[22m ─────────────────────────────────────── tidyverse 1.3.0 ──\n",
            "\n",
            "\u001b[32m✔\u001b[39m \u001b[34mggplot2\u001b[39m 3.3.2     \u001b[32m✔\u001b[39m \u001b[34mpurrr  \u001b[39m 0.3.4\n",
            "\u001b[32m✔\u001b[39m \u001b[34mtibble \u001b[39m 3.0.3     \u001b[32m✔\u001b[39m \u001b[34mdplyr  \u001b[39m 1.0.2\n",
            "\u001b[32m✔\u001b[39m \u001b[34mtidyr  \u001b[39m 1.1.2     \u001b[32m✔\u001b[39m \u001b[34mstringr\u001b[39m 1.4.0\n",
            "\u001b[32m✔\u001b[39m \u001b[34mreadr  \u001b[39m 1.3.1     \u001b[32m✔\u001b[39m \u001b[34mforcats\u001b[39m 0.5.0\n",
            "\n",
            "── \u001b[1mConflicts\u001b[22m ────────────────────────────────────────── tidyverse_conflicts() ──\n",
            "\u001b[31m✖\u001b[39m \u001b[34mdplyr\u001b[39m::\u001b[32mfilter()\u001b[39m masks \u001b[34mstats\u001b[39m::filter()\n",
            "\u001b[31m✖\u001b[39m \u001b[34mdplyr\u001b[39m::\u001b[32mlag()\u001b[39m    masks \u001b[34mstats\u001b[39m::lag()\n",
            "\n"
          ],
          "name": "stderr"
        }
      ]
    },
    {
      "cell_type": "code",
      "metadata": {
        "id": "5kVd6MhQ1R7B",
        "colab_type": "code",
        "colab": {}
      },
      "source": [
        "# create list of random numbers with sublist elements of different lengths\n",
        "listOfNumerics <- list(a = rnorm(5),\n",
        "                       b = rnorm(9),\n",
        "                       c = rnorm(10))"
      ],
      "execution_count": 2,
      "outputs": []
    },
    {
      "cell_type": "code",
      "metadata": {
        "id": "CwGkOZBo21tn",
        "colab_type": "code",
        "colab": {
          "base_uri": "https://localhost:8080/",
          "height": 149
        },
        "outputId": "572d4ff5-e02a-43b5-baea-048fe8d27493"
      },
      "source": [
        "listOfNumerics"
      ],
      "execution_count": 5,
      "outputs": [
        {
          "output_type": "display_data",
          "data": {
            "text/plain": [
              "$a\n",
              "[1]  1.3197839  0.5855263  1.3481614 -0.1040470  1.6762861\n",
              "\n",
              "$b\n",
              "[1] -0.4518038  0.5026298  0.6660879 -0.1513334  0.4627314 -1.4337304 -1.3136965\n",
              "[8] -0.8512747 -1.3203468\n",
              "\n",
              "$c\n",
              " [1] -1.06912931  1.46781501  1.76923168  0.48469257 -1.96472620 -0.12560854\n",
              " [7] -1.05032944  0.03376771 -0.42696237 -0.39523860\n"
            ],
            "text/latex": "\\begin{description}\n\\item[\\$a] \\begin{enumerate*}\n\\item 1.31978386202242\n\\item 0.585526254271097\n\\item 1.34816135921893\n\\item -0.104046956829784\n\\item 1.6762860933313\n\\end{enumerate*}\n\n\\item[\\$b] \\begin{enumerate*}\n\\item -0.451803811696318\n\\item 0.50262984281796\n\\item 0.666087881486667\n\\item -0.151333375396444\n\\item 0.462731447913123\n\\item -1.43373035928608\n\\item -1.31369650180409\n\\item -0.851274715005308\n\\item -1.32034684488951\n\\end{enumerate*}\n\n\\item[\\$c] \\begin{enumerate*}\n\\item -1.06912930735052\n\\item 1.46781500731034\n\\item 1.76923168318803\n\\item 0.484692573350638\n\\item -1.96472620334828\n\\item -0.125608539225496\n\\item -1.05032944315218\n\\item 0.0337677124760739\n\\item -0.426962368461098\n\\item -0.395238597716912\n\\end{enumerate*}\n\n\\end{description}\n",
            "text/markdown": "$a\n:   1. 1.31978386202242\n2. 0.585526254271097\n3. 1.34816135921893\n4. -0.104046956829784\n5. 1.6762860933313\n\n\n\n$b\n:   1. -0.451803811696318\n2. 0.50262984281796\n3. 0.666087881486667\n4. -0.151333375396444\n5. 0.462731447913123\n6. -1.43373035928608\n7. -1.31369650180409\n8. -0.851274715005308\n9. -1.32034684488951\n\n\n\n$c\n:   1. -1.06912930735052\n2. 1.46781500731034\n3. 1.76923168318803\n4. 0.484692573350638\n5. -1.96472620334828\n6. -0.125608539225496\n7. -1.05032944315218\n8. 0.0337677124760739\n9. -0.426962368461098\n10. -0.395238597716912\n\n\n\n\n\n",
            "text/html": [
              "<dl>\n",
              "\t<dt>$a</dt>\n",
              "\t\t<dd><style>\n",
              ".list-inline {list-style: none; margin:0; padding: 0}\n",
              ".list-inline>li {display: inline-block}\n",
              ".list-inline>li:not(:last-child)::after {content: \"\\00b7\"; padding: 0 .5ex}\n",
              "</style>\n",
              "<ol class=list-inline><li>1.31978386202242</li><li>0.585526254271097</li><li>1.34816135921893</li><li>-0.104046956829784</li><li>1.6762860933313</li></ol>\n",
              "</dd>\n",
              "\t<dt>$b</dt>\n",
              "\t\t<dd><style>\n",
              ".list-inline {list-style: none; margin:0; padding: 0}\n",
              ".list-inline>li {display: inline-block}\n",
              ".list-inline>li:not(:last-child)::after {content: \"\\00b7\"; padding: 0 .5ex}\n",
              "</style>\n",
              "<ol class=list-inline><li>-0.451803811696318</li><li>0.50262984281796</li><li>0.666087881486667</li><li>-0.151333375396444</li><li>0.462731447913123</li><li>-1.43373035928608</li><li>-1.31369650180409</li><li>-0.851274715005308</li><li>-1.32034684488951</li></ol>\n",
              "</dd>\n",
              "\t<dt>$c</dt>\n",
              "\t\t<dd><style>\n",
              ".list-inline {list-style: none; margin:0; padding: 0}\n",
              ".list-inline>li {display: inline-block}\n",
              ".list-inline>li:not(:last-child)::after {content: \"\\00b7\"; padding: 0 .5ex}\n",
              "</style>\n",
              "<ol class=list-inline><li>-1.06912930735052</li><li>1.46781500731034</li><li>1.76923168318803</li><li>0.484692573350638</li><li>-1.96472620334828</li><li>-0.125608539225496</li><li>-1.05032944315218</li><li>0.0337677124760739</li><li>-0.426962368461098</li><li>-0.395238597716912</li></ol>\n",
              "</dd>\n",
              "</dl>\n"
            ]
          },
          "metadata": {
            "tags": []
          }
        }
      ]
    },
    {
      "cell_type": "code",
      "metadata": {
        "id": "QGT-zJLH23NW",
        "colab_type": "code",
        "colab": {}
      },
      "source": [
        "# define accumulator vector ahead of usage in for loop\n",
        "elementLengths <- vector(\"list\", length = 3)"
      ],
      "execution_count": 6,
      "outputs": []
    },
    {
      "cell_type": "code",
      "metadata": {
        "id": "XxDTEL8A3TgX",
        "colab_type": "code",
        "colab": {}
      },
      "source": [
        "# for loop to get the length of each sublist in listOfNumerics\n",
        "for(i in seq_along(listOfNumerics)) {\n",
        "  elementLengths[[i]] <- length(listOfNumerics[[i]])\n",
        "}"
      ],
      "execution_count": 7,
      "outputs": []
    },
    {
      "cell_type": "code",
      "metadata": {
        "id": "o48-hCOE3ksM",
        "colab_type": "code",
        "colab": {
          "base_uri": "https://localhost:8080/",
          "height": 97
        },
        "outputId": "c1955a8a-8643-4312-dbde-505b4ec85354"
      },
      "source": [
        "elementLengths"
      ],
      "execution_count": 8,
      "outputs": [
        {
          "output_type": "display_data",
          "data": {
            "text/plain": [
              "[[1]]\n",
              "[1] 5\n",
              "\n",
              "[[2]]\n",
              "[1] 9\n",
              "\n",
              "[[3]]\n",
              "[1] 10\n"
            ],
            "text/latex": "\\begin{enumerate}\n\\item 5\n\\item 9\n\\item 10\n\\end{enumerate}\n",
            "text/markdown": "1. 5\n2. 9\n3. 10\n\n\n",
            "text/html": [
              "<ol>\n",
              "\t<li>5</li>\n",
              "\t<li>9</li>\n",
              "\t<li>10</li>\n",
              "</ol>\n"
            ]
          },
          "metadata": {
            "tags": []
          }
        }
      ]
    },
    {
      "cell_type": "code",
      "metadata": {
        "id": "eBr6LvRx3m-m",
        "colab_type": "code",
        "colab": {
          "base_uri": "https://localhost:8080/",
          "height": 149
        },
        "outputId": "0441af26-aa7a-4ffb-cbb5-ddedaf95ef12"
      },
      "source": [
        "# using map to replace for loop above\n",
        "map(listOfNumerics, length)"
      ],
      "execution_count": 9,
      "outputs": [
        {
          "output_type": "display_data",
          "data": {
            "text/plain": [
              "$a\n",
              "[1] 5\n",
              "\n",
              "$b\n",
              "[1] 9\n",
              "\n",
              "$c\n",
              "[1] 10\n"
            ],
            "text/latex": "\\begin{description}\n\\item[\\$a] 5\n\\item[\\$b] 9\n\\item[\\$c] 10\n\\end{description}\n",
            "text/markdown": "$a\n:   5\n$b\n:   9\n$c\n:   10\n\n\n",
            "text/html": [
              "<dl>\n",
              "\t<dt>$a</dt>\n",
              "\t\t<dd>5</dd>\n",
              "\t<dt>$b</dt>\n",
              "\t\t<dd>9</dd>\n",
              "\t<dt>$c</dt>\n",
              "\t\t<dd>10</dd>\n",
              "</dl>\n"
            ]
          },
          "metadata": {
            "tags": []
          }
        }
      ]
    },
    {
      "cell_type": "code",
      "metadata": {
        "id": "BMw2C5384keX",
        "colab_type": "code",
        "colab": {
          "base_uri": "https://localhost:8080/",
          "height": 34
        },
        "outputId": "a53077f5-da9e-419d-debc-80da5f8154d5"
      },
      "source": [
        "# map_int specifies that result returned will be atomic vector of int\n",
        "map_int(listOfNumerics, length)"
      ],
      "execution_count": 10,
      "outputs": [
        {
          "output_type": "display_data",
          "data": {
            "text/plain": [
              " a  b  c \n",
              " 5  9 10 "
            ],
            "text/latex": "\\begin{description*}\n\\item[a] 5\n\\item[b] 9\n\\item[c] 10\n\\end{description*}\n",
            "text/markdown": "a\n:   5b\n:   9c\n:   10\n\n",
            "text/html": [
              "<style>\n",
              ".dl-inline {width: auto; margin:0; padding: 0}\n",
              ".dl-inline>dt, .dl-inline>dd {float: none; width: auto; display: inline-block}\n",
              ".dl-inline>dt::after {content: \":\\0020\"; padding-right: .5ex}\n",
              ".dl-inline>dt:not(:first-of-type) {padding-left: .5ex}\n",
              "</style><dl class=dl-inline><dt>a</dt><dd>5</dd><dt>b</dt><dd>9</dd><dt>c</dt><dd>10</dd></dl>\n"
            ]
          },
          "metadata": {
            "tags": []
          }
        }
      ]
    },
    {
      "cell_type": "code",
      "metadata": {
        "id": "i_GYBw-D5awb",
        "colab_type": "code",
        "colab": {
          "base_uri": "https://localhost:8080/",
          "height": 34
        },
        "outputId": "990084de-9faa-4f99-d047-79bbbe273121"
      },
      "source": [
        "# map_chr specifies that result returned will be atomic vector of chr\n",
        "map_chr(listOfNumerics, length)"
      ],
      "execution_count": 11,
      "outputs": [
        {
          "output_type": "display_data",
          "data": {
            "text/plain": [
              "   a    b    c \n",
              " \"5\"  \"9\" \"10\" "
            ],
            "text/latex": "\\begin{description*}\n\\item[a] '5'\n\\item[b] '9'\n\\item[c] '10'\n\\end{description*}\n",
            "text/markdown": "a\n:   '5'b\n:   '9'c\n:   '10'\n\n",
            "text/html": [
              "<style>\n",
              ".dl-inline {width: auto; margin:0; padding: 0}\n",
              ".dl-inline>dt, .dl-inline>dd {float: none; width: auto; display: inline-block}\n",
              ".dl-inline>dt::after {content: \":\\0020\"; padding-right: .5ex}\n",
              ".dl-inline>dt:not(:first-of-type) {padding-left: .5ex}\n",
              "</style><dl class=dl-inline><dt>a</dt><dd>'5'</dd><dt>b</dt><dd>'9'</dd><dt>c</dt><dd>'10'</dd></dl>\n"
            ]
          },
          "metadata": {
            "tags": []
          }
        }
      ]
    },
    {
      "cell_type": "code",
      "metadata": {
        "id": "7h30RNoI6E8t",
        "colab_type": "code",
        "colab": {
          "base_uri": "https://localhost:8080/",
          "height": 132
        },
        "outputId": "43f02a69-2968-424d-ccab-696cd386b635"
      },
      "source": [
        "# map_lgl specifies that result returned will be atomic vector of lgl (T/F)\n",
        "# note that this doesn't work (raises error) here because the length of each \n",
        "# element of listOfNumerics can't be coerced to T/F value \n",
        "map_lgl(listOfNumerics, length)"
      ],
      "execution_count": 12,
      "outputs": [
        {
          "output_type": "error",
          "ename": "ERROR",
          "evalue": "ignored",
          "traceback": [
            "Error: Can't coerce element 1 from a integer to a logical\nTraceback:\n",
            "1. map_lgl(listOfNumerics, length)"
          ]
        }
      ]
    },
    {
      "cell_type": "code",
      "metadata": {
        "id": "Wi41z2gn6dC_",
        "colab_type": "code",
        "colab": {
          "base_uri": "https://localhost:8080/",
          "height": 100
        },
        "outputId": "e8cfc32c-fd73-4cc4-caee-f0687736f485"
      },
      "source": [
        "# map_df specifies that result returned will be a tibble\n",
        "map_df(listOfNumerics, length)"
      ],
      "execution_count": 13,
      "outputs": [
        {
          "output_type": "display_data",
          "data": {
            "text/plain": [
              "  a b c \n",
              "1 5 9 10"
            ],
            "text/latex": "A tibble: 1 × 3\n\\begin{tabular}{lll}\n a & b & c\\\\\n <int> & <int> & <int>\\\\\n\\hline\n\t 5 & 9 & 10\\\\\n\\end{tabular}\n",
            "text/markdown": "\nA tibble: 1 × 3\n\n| a &lt;int&gt; | b &lt;int&gt; | c &lt;int&gt; |\n|---|---|---|\n| 5 | 9 | 10 |\n\n",
            "text/html": [
              "<table>\n",
              "<caption>A tibble: 1 × 3</caption>\n",
              "<thead>\n",
              "\t<tr><th scope=col>a</th><th scope=col>b</th><th scope=col>c</th></tr>\n",
              "\t<tr><th scope=col>&lt;int&gt;</th><th scope=col>&lt;int&gt;</th><th scope=col>&lt;int&gt;</th></tr>\n",
              "</thead>\n",
              "<tbody>\n",
              "\t<tr><td>5</td><td>9</td><td>10</td></tr>\n",
              "</tbody>\n",
              "</table>\n"
            ]
          },
          "metadata": {
            "tags": []
          }
        }
      ]
    },
    {
      "cell_type": "code",
      "metadata": {
        "id": "23v9CiYv85mC",
        "colab_type": "code",
        "colab": {
          "base_uri": "https://localhost:8080/",
          "height": 149
        },
        "outputId": "d2520224-3c43-42e4-d44d-0ec009142df1"
      },
      "source": [
        "listOfNumerics"
      ],
      "execution_count": 14,
      "outputs": [
        {
          "output_type": "display_data",
          "data": {
            "text/plain": [
              "$a\n",
              "[1]  1.3197839  0.5855263  1.3481614 -0.1040470  1.6762861\n",
              "\n",
              "$b\n",
              "[1] -0.4518038  0.5026298  0.6660879 -0.1513334  0.4627314 -1.4337304 -1.3136965\n",
              "[8] -0.8512747 -1.3203468\n",
              "\n",
              "$c\n",
              " [1] -1.06912931  1.46781501  1.76923168  0.48469257 -1.96472620 -0.12560854\n",
              " [7] -1.05032944  0.03376771 -0.42696237 -0.39523860\n"
            ],
            "text/latex": "\\begin{description}\n\\item[\\$a] \\begin{enumerate*}\n\\item 1.31978386202242\n\\item 0.585526254271097\n\\item 1.34816135921893\n\\item -0.104046956829784\n\\item 1.6762860933313\n\\end{enumerate*}\n\n\\item[\\$b] \\begin{enumerate*}\n\\item -0.451803811696318\n\\item 0.50262984281796\n\\item 0.666087881486667\n\\item -0.151333375396444\n\\item 0.462731447913123\n\\item -1.43373035928608\n\\item -1.31369650180409\n\\item -0.851274715005308\n\\item -1.32034684488951\n\\end{enumerate*}\n\n\\item[\\$c] \\begin{enumerate*}\n\\item -1.06912930735052\n\\item 1.46781500731034\n\\item 1.76923168318803\n\\item 0.484692573350638\n\\item -1.96472620334828\n\\item -0.125608539225496\n\\item -1.05032944315218\n\\item 0.0337677124760739\n\\item -0.426962368461098\n\\item -0.395238597716912\n\\end{enumerate*}\n\n\\end{description}\n",
            "text/markdown": "$a\n:   1. 1.31978386202242\n2. 0.585526254271097\n3. 1.34816135921893\n4. -0.104046956829784\n5. 1.6762860933313\n\n\n\n$b\n:   1. -0.451803811696318\n2. 0.50262984281796\n3. 0.666087881486667\n4. -0.151333375396444\n5. 0.462731447913123\n6. -1.43373035928608\n7. -1.31369650180409\n8. -0.851274715005308\n9. -1.32034684488951\n\n\n\n$c\n:   1. -1.06912930735052\n2. 1.46781500731034\n3. 1.76923168318803\n4. 0.484692573350638\n5. -1.96472620334828\n6. -0.125608539225496\n7. -1.05032944315218\n8. 0.0337677124760739\n9. -0.426962368461098\n10. -0.395238597716912\n\n\n\n\n\n",
            "text/html": [
              "<dl>\n",
              "\t<dt>$a</dt>\n",
              "\t\t<dd><style>\n",
              ".list-inline {list-style: none; margin:0; padding: 0}\n",
              ".list-inline>li {display: inline-block}\n",
              ".list-inline>li:not(:last-child)::after {content: \"\\00b7\"; padding: 0 .5ex}\n",
              "</style>\n",
              "<ol class=list-inline><li>1.31978386202242</li><li>0.585526254271097</li><li>1.34816135921893</li><li>-0.104046956829784</li><li>1.6762860933313</li></ol>\n",
              "</dd>\n",
              "\t<dt>$b</dt>\n",
              "\t\t<dd><style>\n",
              ".list-inline {list-style: none; margin:0; padding: 0}\n",
              ".list-inline>li {display: inline-block}\n",
              ".list-inline>li:not(:last-child)::after {content: \"\\00b7\"; padding: 0 .5ex}\n",
              "</style>\n",
              "<ol class=list-inline><li>-0.451803811696318</li><li>0.50262984281796</li><li>0.666087881486667</li><li>-0.151333375396444</li><li>0.462731447913123</li><li>-1.43373035928608</li><li>-1.31369650180409</li><li>-0.851274715005308</li><li>-1.32034684488951</li></ol>\n",
              "</dd>\n",
              "\t<dt>$c</dt>\n",
              "\t\t<dd><style>\n",
              ".list-inline {list-style: none; margin:0; padding: 0}\n",
              ".list-inline>li {display: inline-block}\n",
              ".list-inline>li:not(:last-child)::after {content: \"\\00b7\"; padding: 0 .5ex}\n",
              "</style>\n",
              "<ol class=list-inline><li>-1.06912930735052</li><li>1.46781500731034</li><li>1.76923168318803</li><li>0.484692573350638</li><li>-1.96472620334828</li><li>-0.125608539225496</li><li>-1.05032944315218</li><li>0.0337677124760739</li><li>-0.426962368461098</li><li>-0.395238597716912</li></ol>\n",
              "</dd>\n",
              "</dl>\n"
            ]
          },
          "metadata": {
            "tags": []
          }
        }
      ]
    },
    {
      "cell_type": "code",
      "metadata": {
        "id": "Y59yQZmq64vl",
        "colab_type": "code",
        "colab": {
          "base_uri": "https://localhost:8080/",
          "height": 149
        },
        "outputId": "fa948dd5-4f24-47ee-a6f2-8e1dfaa5d55e"
      },
      "source": [
        "# using anonymous function (aka lambda function or \"pure\" function)\n",
        "# to add 2 to list elements in listOfNumerics\n",
        "# note that ~ is shorthand for function(.)\n",
        "map(listOfNumerics, ~. + 2)"
      ],
      "execution_count": 16,
      "outputs": [
        {
          "output_type": "display_data",
          "data": {
            "text/plain": [
              "$a\n",
              "[1] 3.319784 2.585526 3.348161 1.895953 3.676286\n",
              "\n",
              "$b\n",
              "[1] 1.5481962 2.5026298 2.6660879 1.8486666 2.4627314 0.5662696 0.6863035\n",
              "[8] 1.1487253 0.6796532\n",
              "\n",
              "$c\n",
              " [1] 0.9308707 3.4678150 3.7692317 2.4846926 0.0352738 1.8743915 0.9496706\n",
              " [8] 2.0337677 1.5730376 1.6047614\n"
            ],
            "text/latex": "\\begin{description}\n\\item[\\$a] \\begin{enumerate*}\n\\item 3.31978386202242\n\\item 2.5855262542711\n\\item 3.34816135921893\n\\item 1.89595304317022\n\\item 3.6762860933313\n\\end{enumerate*}\n\n\\item[\\$b] \\begin{enumerate*}\n\\item 1.54819618830368\n\\item 2.50262984281796\n\\item 2.66608788148667\n\\item 1.84866662460356\n\\item 2.46273144791312\n\\item 0.566269640713918\n\\item 0.686303498195906\n\\item 1.14872528499469\n\\item 0.679653155110491\n\\end{enumerate*}\n\n\\item[\\$c] \\begin{enumerate*}\n\\item 0.930870692649478\n\\item 3.46781500731034\n\\item 3.76923168318803\n\\item 2.48469257335064\n\\item 0.0352737966517196\n\\item 1.8743914607745\n\\item 0.949670556847825\n\\item 2.03376771247607\n\\item 1.5730376315389\n\\item 1.60476140228309\n\\end{enumerate*}\n\n\\end{description}\n",
            "text/markdown": "$a\n:   1. 3.31978386202242\n2. 2.5855262542711\n3. 3.34816135921893\n4. 1.89595304317022\n5. 3.6762860933313\n\n\n\n$b\n:   1. 1.54819618830368\n2. 2.50262984281796\n3. 2.66608788148667\n4. 1.84866662460356\n5. 2.46273144791312\n6. 0.566269640713918\n7. 0.686303498195906\n8. 1.14872528499469\n9. 0.679653155110491\n\n\n\n$c\n:   1. 0.930870692649478\n2. 3.46781500731034\n3. 3.76923168318803\n4. 2.48469257335064\n5. 0.0352737966517196\n6. 1.8743914607745\n7. 0.949670556847825\n8. 2.03376771247607\n9. 1.5730376315389\n10. 1.60476140228309\n\n\n\n\n\n",
            "text/html": [
              "<dl>\n",
              "\t<dt>$a</dt>\n",
              "\t\t<dd><style>\n",
              ".list-inline {list-style: none; margin:0; padding: 0}\n",
              ".list-inline>li {display: inline-block}\n",
              ".list-inline>li:not(:last-child)::after {content: \"\\00b7\"; padding: 0 .5ex}\n",
              "</style>\n",
              "<ol class=list-inline><li>3.31978386202242</li><li>2.5855262542711</li><li>3.34816135921893</li><li>1.89595304317022</li><li>3.6762860933313</li></ol>\n",
              "</dd>\n",
              "\t<dt>$b</dt>\n",
              "\t\t<dd><style>\n",
              ".list-inline {list-style: none; margin:0; padding: 0}\n",
              ".list-inline>li {display: inline-block}\n",
              ".list-inline>li:not(:last-child)::after {content: \"\\00b7\"; padding: 0 .5ex}\n",
              "</style>\n",
              "<ol class=list-inline><li>1.54819618830368</li><li>2.50262984281796</li><li>2.66608788148667</li><li>1.84866662460356</li><li>2.46273144791312</li><li>0.566269640713918</li><li>0.686303498195906</li><li>1.14872528499469</li><li>0.679653155110491</li></ol>\n",
              "</dd>\n",
              "\t<dt>$c</dt>\n",
              "\t\t<dd><style>\n",
              ".list-inline {list-style: none; margin:0; padding: 0}\n",
              ".list-inline>li {display: inline-block}\n",
              ".list-inline>li:not(:last-child)::after {content: \"\\00b7\"; padding: 0 .5ex}\n",
              "</style>\n",
              "<ol class=list-inline><li>0.930870692649478</li><li>3.46781500731034</li><li>3.76923168318803</li><li>2.48469257335064</li><li>0.0352737966517196</li><li>1.8743914607745</li><li>0.949670556847825</li><li>2.03376771247607</li><li>1.5730376315389</li><li>1.60476140228309</li></ol>\n",
              "</dd>\n",
              "</dl>\n"
            ]
          },
          "metadata": {
            "tags": []
          }
        }
      ]
    },
    {
      "cell_type": "code",
      "metadata": {
        "id": "mho-ldXj8-na",
        "colab_type": "code",
        "colab": {
          "base_uri": "https://localhost:8080/",
          "height": 437
        },
        "outputId": "5b045f76-3e42-4097-e629-2c155b1a5139"
      },
      "source": [
        "# using walk() to produce \"side-effects\" (i.e. non-values returned from functions)--\n",
        "# in this case the \"side-effects\" are plots we want\n",
        "# note that par(mfrow = c(1, 3)) splits plots into 1 row and three columns\n",
        "par(mfrow = c(1, 3))\n",
        "walk(listOfNumerics, hist)"
      ],
      "execution_count": 17,
      "outputs": [
        {
          "output_type": "display_data",
          "data": {
            "image/png": "[encoded data removed]",
            "text/plain": [
              "Plot with title “Histogram of .x[[i]]”"
            ]
          },
          "metadata": {
            "tags": [],
            "image/png": {
              "width": 420,
              "height": 420
            }
          }
        }
      ]
    },
    {
      "cell_type": "code",
      "metadata": {
        "id": "YXH5UBLq-ACf",
        "colab_type": "code",
        "colab": {
          "base_uri": "https://localhost:8080/",
          "height": 437
        },
        "outputId": "af7d96a3-1b69-4209-ff16-4a110f5a026a"
      },
      "source": [
        "# iwalk() will allow for labeling of the plots by the element's index\n",
        "# (e.g. \"a\", \"b\", \"c\" in these plots)\n",
        "par(mfrow = c(1, 3))\n",
        "iwalk(listOfNumerics, ~hist(.x, main = .y))"
      ],
      "execution_count": 20,
      "outputs": [
        {
          "output_type": "display_data",
          "data": {
            "image/png": "[encoded data removed]",
            "text/plain": [
              "Plot with title “c”"
            ]
          },
          "metadata": {
            "tags": [],
            "image/png": {
              "width": 420,
              "height": 420
            }
          }
        }
      ]
    },
    {
      "cell_type": "code",
      "metadata": {
        "id": "fgr1hkaX-hyF",
        "colab_type": "code",
        "colab": {
          "base_uri": "https://localhost:8080/",
          "height": 149
        },
        "outputId": "5b814f5b-e06a-482b-a9ac-352d085d19fd"
      },
      "source": [
        "# using map2() to map over two lists at once\n",
        "# here using multipliers to multiply each element in\n",
        "# listOfNumerics by its respective element in multiplier\n",
        "# lists need to be of same lengths it appears\n",
        "multipliers <- list(0.5, 10, 3)\n",
        "map2(.x = listOfNumerics, .y = multipliers, ~.x * .y)"
      ],
      "execution_count": 21,
      "outputs": [
        {
          "output_type": "display_data",
          "data": {
            "text/plain": [
              "$a\n",
              "[1]  0.65989193  0.29276313  0.67408068 -0.05202348  0.83814305\n",
              "\n",
              "$b\n",
              "[1]  -4.518038   5.026298   6.660879  -1.513334   4.627314 -14.337304 -13.136965\n",
              "[8]  -8.512747 -13.203468\n",
              "\n",
              "$c\n",
              " [1] -3.2073879  4.4034450  5.3076950  1.4540777 -5.8941786 -0.3768256\n",
              " [7] -3.1509883  0.1013031 -1.2808871 -1.1857158\n"
            ],
            "text/latex": "\\begin{description}\n\\item[\\$a] \\begin{enumerate*}\n\\item 0.659891931011212\n\\item 0.292763127135548\n\\item 0.674080679609465\n\\item -0.0520234784148919\n\\item 0.838143046665648\n\\end{enumerate*}\n\n\\item[\\$b] \\begin{enumerate*}\n\\item -4.51803811696318\n\\item 5.0262984281796\n\\item 6.66087881486667\n\\item -1.51333375396444\n\\item 4.62731447913123\n\\item -14.3373035928608\n\\item -13.1369650180409\n\\item -8.51274715005309\n\\item -13.2034684488951\n\\end{enumerate*}\n\n\\item[\\$c] \\begin{enumerate*}\n\\item -3.20738792205157\n\\item 4.40344502193101\n\\item 5.3076950495641\n\\item 1.45407772005192\n\\item -5.89417861004484\n\\item -0.376825617676487\n\\item -3.15098832945653\n\\item 0.101303137428222\n\\item -1.28088710538329\n\\item -1.18571579315073\n\\end{enumerate*}\n\n\\end{description}\n",
            "text/markdown": "$a\n:   1. 0.659891931011212\n2. 0.292763127135548\n3. 0.674080679609465\n4. -0.0520234784148919\n5. 0.838143046665648\n\n\n\n$b\n:   1. -4.51803811696318\n2. 5.0262984281796\n3. 6.66087881486667\n4. -1.51333375396444\n5. 4.62731447913123\n6. -14.3373035928608\n7. -13.1369650180409\n8. -8.51274715005309\n9. -13.2034684488951\n\n\n\n$c\n:   1. -3.20738792205157\n2. 4.40344502193101\n3. 5.3076950495641\n4. 1.45407772005192\n5. -5.89417861004484\n6. -0.376825617676487\n7. -3.15098832945653\n8. 0.101303137428222\n9. -1.28088710538329\n10. -1.18571579315073\n\n\n\n\n\n",
            "text/html": [
              "<dl>\n",
              "\t<dt>$a</dt>\n",
              "\t\t<dd><style>\n",
              ".list-inline {list-style: none; margin:0; padding: 0}\n",
              ".list-inline>li {display: inline-block}\n",
              ".list-inline>li:not(:last-child)::after {content: \"\\00b7\"; padding: 0 .5ex}\n",
              "</style>\n",
              "<ol class=list-inline><li>0.659891931011212</li><li>0.292763127135548</li><li>0.674080679609465</li><li>-0.0520234784148919</li><li>0.838143046665648</li></ol>\n",
              "</dd>\n",
              "\t<dt>$b</dt>\n",
              "\t\t<dd><style>\n",
              ".list-inline {list-style: none; margin:0; padding: 0}\n",
              ".list-inline>li {display: inline-block}\n",
              ".list-inline>li:not(:last-child)::after {content: \"\\00b7\"; padding: 0 .5ex}\n",
              "</style>\n",
              "<ol class=list-inline><li>-4.51803811696318</li><li>5.0262984281796</li><li>6.66087881486667</li><li>-1.51333375396444</li><li>4.62731447913123</li><li>-14.3373035928608</li><li>-13.1369650180409</li><li>-8.51274715005309</li><li>-13.2034684488951</li></ol>\n",
              "</dd>\n",
              "\t<dt>$c</dt>\n",
              "\t\t<dd><style>\n",
              ".list-inline {list-style: none; margin:0; padding: 0}\n",
              ".list-inline>li {display: inline-block}\n",
              ".list-inline>li:not(:last-child)::after {content: \"\\00b7\"; padding: 0 .5ex}\n",
              "</style>\n",
              "<ol class=list-inline><li>-3.20738792205157</li><li>4.40344502193101</li><li>5.3076950495641</li><li>1.45407772005192</li><li>-5.89417861004484</li><li>-0.376825617676487</li><li>-3.15098832945653</li><li>0.101303137428222</li><li>-1.28088710538329</li><li>-1.18571579315073</li></ol>\n",
              "</dd>\n",
              "</dl>\n"
            ]
          },
          "metadata": {
            "tags": []
          }
        }
      ]
    },
    {
      "cell_type": "code",
      "metadata": {
        "id": "TbXOYxuYAKz2",
        "colab_type": "code",
        "colab": {}
      },
      "source": [
        "arguments <- expand.grid(n = c(100, 200),\n",
        "                         mean = c(1, 10),\n",
        "                         sd = c(1, 10))"
      ],
      "execution_count": 22,
      "outputs": []
    },
    {
      "cell_type": "code",
      "metadata": {
        "id": "R8DHNAtDBE-I",
        "colab_type": "code",
        "colab": {
          "base_uri": "https://localhost:8080/",
          "height": 250
        },
        "outputId": "f5ea949b-935f-429a-f744-7439ecca1e1b"
      },
      "source": [
        "arguments"
      ],
      "execution_count": 23,
      "outputs": [
        {
          "output_type": "display_data",
          "data": {
            "text/plain": [
              "  n   mean sd\n",
              "1 100  1    1\n",
              "2 200  1    1\n",
              "3 100 10    1\n",
              "4 200 10    1\n",
              "5 100  1   10\n",
              "6 200  1   10\n",
              "7 100 10   10\n",
              "8 200 10   10"
            ],
            "text/latex": "A data.frame: 8 × 3\n\\begin{tabular}{lll}\n n & mean & sd\\\\\n <dbl> & <dbl> & <dbl>\\\\\n\\hline\n\t 100 &  1 &  1\\\\\n\t 200 &  1 &  1\\\\\n\t 100 & 10 &  1\\\\\n\t 200 & 10 &  1\\\\\n\t 100 &  1 & 10\\\\\n\t 200 &  1 & 10\\\\\n\t 100 & 10 & 10\\\\\n\t 200 & 10 & 10\\\\\n\\end{tabular}\n",
            "text/markdown": "\nA data.frame: 8 × 3\n\n| n &lt;dbl&gt; | mean &lt;dbl&gt; | sd &lt;dbl&gt; |\n|---|---|---|\n| 100 |  1 |  1 |\n| 200 |  1 |  1 |\n| 100 | 10 |  1 |\n| 200 | 10 |  1 |\n| 100 |  1 | 10 |\n| 200 |  1 | 10 |\n| 100 | 10 | 10 |\n| 200 | 10 | 10 |\n\n",
            "text/html": [
              "<table>\n",
              "<caption>A data.frame: 8 × 3</caption>\n",
              "<thead>\n",
              "\t<tr><th scope=col>n</th><th scope=col>mean</th><th scope=col>sd</th></tr>\n",
              "\t<tr><th scope=col>&lt;dbl&gt;</th><th scope=col>&lt;dbl&gt;</th><th scope=col>&lt;dbl&gt;</th></tr>\n",
              "</thead>\n",
              "<tbody>\n",
              "\t<tr><td>100</td><td> 1</td><td> 1</td></tr>\n",
              "\t<tr><td>200</td><td> 1</td><td> 1</td></tr>\n",
              "\t<tr><td>100</td><td>10</td><td> 1</td></tr>\n",
              "\t<tr><td>200</td><td>10</td><td> 1</td></tr>\n",
              "\t<tr><td>100</td><td> 1</td><td>10</td></tr>\n",
              "\t<tr><td>200</td><td> 1</td><td>10</td></tr>\n",
              "\t<tr><td>100</td><td>10</td><td>10</td></tr>\n",
              "\t<tr><td>200</td><td>10</td><td>10</td></tr>\n",
              "</tbody>\n",
              "</table>\n"
            ]
          },
          "metadata": {
            "tags": []
          }
        }
      ]
    },
    {
      "cell_type": "code",
      "metadata": {
        "id": "YcPb1U_WBGCo",
        "colab_type": "code",
        "colab": {
          "base_uri": "https://localhost:8080/",
          "height": 437
        },
        "outputId": "0219b23f-af89-41e0-9962-b6583693f0e8"
      },
      "source": [
        "# use pmap() function to apply rnorm() function to rows of arguments data.frame\n",
        "# to make 8 draws of size n (one per row of arguments) from normal dist with mean and sd\n",
        "# specified by row of arguments\n",
        "# Distribution of these draws are then piped to hist() for plotting with iwalk()\n",
        "par(mfrow = c(2, 4))\n",
        "pmap(arguments, rnorm) %>%\n",
        "  iwalk(~hist(.x, main = paste(\"Element\", .y)))"
      ],
      "execution_count": 24,
      "outputs": [
        {
          "output_type": "display_data",
          "data": {
            "image/png": "[encoded data removed]",
            "text/plain": [
              "Plot with title “Element 8”"
            ]
          },
          "metadata": {
            "tags": [],
            "image/png": {
              "width": 420,
              "height": 420
            }
          }
        }
      ]
    },
    {
      "cell_type": "code",
      "metadata": {
        "id": "AmgqQZtJBlw0",
        "colab_type": "code",
        "colab": {}
      },
      "source": [
        ""
      ],
      "execution_count": null,
      "outputs": []
    }
  ]
}