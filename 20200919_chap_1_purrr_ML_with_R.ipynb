{
  "nbformat": 4,
  "nbformat_minor": 0,
  "metadata": {
    "colab": {
      "name": "20200919_chap_1_purrr_ML_with_R.ipynb",
      "provenance": [],
      "collapsed_sections": [],
      "authorship_tag": "ABX9TyNXIxyd2RdGFNStmOzHtmTp",
      "include_colab_link": true
    },
    "kernelspec": {
      "name": "ir",
      "display_name": "R"
    }
  },
  "cells": [
    {
      "cell_type": "markdown",
      "metadata": {
        "id": "view-in-github",
        "colab_type": "text"
      },
      "source": [
        "<a href=\"https://colab.research.google.com/github/meaningfromdata/Machine-Learning-With-R-Book/blob/master/20200919_chap_1_purrr_ML_with_R.ipynb\" target=\"_parent\"><img src=\"https://colab.research.google.com/assets/colab-badge.svg\" alt=\"Open In Colab\"/></a>"
      ]
    },
    {
      "cell_type": "code",
      "metadata": {
        "id": "2VkHI9y_1KJ4",
        "colab_type": "code",
        "colab": {
          "base_uri": "https://localhost:8080/",
          "height": 208
        },
        "outputId": "98632b6f-8b5b-4623-af03-d7af666a961a"
      },
      "source": [
        "# colab.fan/r\n",
        "\n",
        "library(tidyverse)"
      ],
      "execution_count": 1,
      "outputs": [
        {
          "output_type": "stream",
          "text": [
            "── \u001b[1mAttaching packages\u001b[22m ─────────────────────────────────────── tidyverse 1.3.0 ──\n",
            "\n",
            "\u001b[32m✔\u001b[39m \u001b[34mggplot2\u001b[39m 3.3.2     \u001b[32m✔\u001b[39m \u001b[34mpurrr  \u001b[39m 0.3.4\n",
            "\u001b[32m✔\u001b[39m \u001b[34mtibble \u001b[39m 3.0.3     \u001b[32m✔\u001b[39m \u001b[34mdplyr  \u001b[39m 1.0.2\n",
            "\u001b[32m✔\u001b[39m \u001b[34mtidyr  \u001b[39m 1.1.2     \u001b[32m✔\u001b[39m \u001b[34mstringr\u001b[39m 1.4.0\n",
            "\u001b[32m✔\u001b[39m \u001b[34mreadr  \u001b[39m 1.3.1     \u001b[32m✔\u001b[39m \u001b[34mforcats\u001b[39m 0.5.0\n",
            "\n",
            "── \u001b[1mConflicts\u001b[22m ────────────────────────────────────────── tidyverse_conflicts() ──\n",
            "\u001b[31m✖\u001b[39m \u001b[34mdplyr\u001b[39m::\u001b[32mfilter()\u001b[39m masks \u001b[34mstats\u001b[39m::filter()\n",
            "\u001b[31m✖\u001b[39m \u001b[34mdplyr\u001b[39m::\u001b[32mlag()\u001b[39m    masks \u001b[34mstats\u001b[39m::lag()\n",
            "\n"
          ],
          "name": "stderr"
        }
      ]
    },
    {
      "cell_type": "code",
      "metadata": {
        "id": "5kVd6MhQ1R7B",
        "colab_type": "code",
        "colab": {}
      },
      "source": [
        "# create list of random numbers with sublist elements of different lengths\n",
        "listOfNumerics <- list(a = rnorm(5),\n",
        "                       b = rnorm(9),\n",
        "                       c = rnorm(10))"
      ],
      "execution_count": 2,
      "outputs": []
    },
    {
      "cell_type": "code",
      "metadata": {
        "id": "CwGkOZBo21tn",
        "colab_type": "code",
        "colab": {
          "base_uri": "https://localhost:8080/",
          "height": 149
        },
        "outputId": "572d4ff5-e02a-43b5-baea-048fe8d27493"
      },
      "source": [
        "listOfNumerics"
      ],
      "execution_count": 5,
      "outputs": [
        {
          "output_type": "display_data",
          "data": {
            "text/plain": [
              "$a\n",
              "[1]  1.3197839  0.5855263  1.3481614 -0.1040470  1.6762861\n",
              "\n",
              "$b\n",
              "[1] -0.4518038  0.5026298  0.6660879 -0.1513334  0.4627314 -1.4337304 -1.3136965\n",
              "[8] -0.8512747 -1.3203468\n",
              "\n",
              "$c\n",
              " [1] -1.06912931  1.46781501  1.76923168  0.48469257 -1.96472620 -0.12560854\n",
              " [7] -1.05032944  0.03376771 -0.42696237 -0.39523860\n"
            ],
            "text/latex": "\\begin{description}\n\\item[\\$a] \\begin{enumerate*}\n\\item 1.31978386202242\n\\item 0.585526254271097\n\\item 1.34816135921893\n\\item -0.104046956829784\n\\item 1.6762860933313\n\\end{enumerate*}\n\n\\item[\\$b] \\begin{enumerate*}\n\\item -0.451803811696318\n\\item 0.50262984281796\n\\item 0.666087881486667\n\\item -0.151333375396444\n\\item 0.462731447913123\n\\item -1.43373035928608\n\\item -1.31369650180409\n\\item -0.851274715005308\n\\item -1.32034684488951\n\\end{enumerate*}\n\n\\item[\\$c] \\begin{enumerate*}\n\\item -1.06912930735052\n\\item 1.46781500731034\n\\item 1.76923168318803\n\\item 0.484692573350638\n\\item -1.96472620334828\n\\item -0.125608539225496\n\\item -1.05032944315218\n\\item 0.0337677124760739\n\\item -0.426962368461098\n\\item -0.395238597716912\n\\end{enumerate*}\n\n\\end{description}\n",
            "text/markdown": "$a\n:   1. 1.31978386202242\n2. 0.585526254271097\n3. 1.34816135921893\n4. -0.104046956829784\n5. 1.6762860933313\n\n\n\n$b\n:   1. -0.451803811696318\n2. 0.50262984281796\n3. 0.666087881486667\n4. -0.151333375396444\n5. 0.462731447913123\n6. -1.43373035928608\n7. -1.31369650180409\n8. -0.851274715005308\n9. -1.32034684488951\n\n\n\n$c\n:   1. -1.06912930735052\n2. 1.46781500731034\n3. 1.76923168318803\n4. 0.484692573350638\n5. -1.96472620334828\n6. -0.125608539225496\n7. -1.05032944315218\n8. 0.0337677124760739\n9. -0.426962368461098\n10. -0.395238597716912\n\n\n\n\n\n",
            "text/html": [
              "<dl>\n",
              "\t<dt>$a</dt>\n",
              "\t\t<dd><style>\n",
              ".list-inline {list-style: none; margin:0; padding: 0}\n",
              ".list-inline>li {display: inline-block}\n",
              ".list-inline>li:not(:last-child)::after {content: \"\\00b7\"; padding: 0 .5ex}\n",
              "</style>\n",
              "<ol class=list-inline><li>1.31978386202242</li><li>0.585526254271097</li><li>1.34816135921893</li><li>-0.104046956829784</li><li>1.6762860933313</li></ol>\n",
              "</dd>\n",
              "\t<dt>$b</dt>\n",
              "\t\t<dd><style>\n",
              ".list-inline {list-style: none; margin:0; padding: 0}\n",
              ".list-inline>li {display: inline-block}\n",
              ".list-inline>li:not(:last-child)::after {content: \"\\00b7\"; padding: 0 .5ex}\n",
              "</style>\n",
              "<ol class=list-inline><li>-0.451803811696318</li><li>0.50262984281796</li><li>0.666087881486667</li><li>-0.151333375396444</li><li>0.462731447913123</li><li>-1.43373035928608</li><li>-1.31369650180409</li><li>-0.851274715005308</li><li>-1.32034684488951</li></ol>\n",
              "</dd>\n",
              "\t<dt>$c</dt>\n",
              "\t\t<dd><style>\n",
              ".list-inline {list-style: none; margin:0; padding: 0}\n",
              ".list-inline>li {display: inline-block}\n",
              ".list-inline>li:not(:last-child)::after {content: \"\\00b7\"; padding: 0 .5ex}\n",
              "</style>\n",
              "<ol class=list-inline><li>-1.06912930735052</li><li>1.46781500731034</li><li>1.76923168318803</li><li>0.484692573350638</li><li>-1.96472620334828</li><li>-0.125608539225496</li><li>-1.05032944315218</li><li>0.0337677124760739</li><li>-0.426962368461098</li><li>-0.395238597716912</li></ol>\n",
              "</dd>\n",
              "</dl>\n"
            ]
          },
          "metadata": {
            "tags": []
          }
        }
      ]
    },
    {
      "cell_type": "code",
      "metadata": {
        "id": "QGT-zJLH23NW",
        "colab_type": "code",
        "colab": {}
      },
      "source": [
        "# define accumulator vector ahead of usage in for loop\n",
        "elementLengths <- vector(\"list\", length = 3)"
      ],
      "execution_count": 6,
      "outputs": []
    },
    {
      "cell_type": "code",
      "metadata": {
        "id": "XxDTEL8A3TgX",
        "colab_type": "code",
        "colab": {}
      },
      "source": [
        "# for loop to get the length of each sublist in listOfNumerics\n",
        "for(i in seq_along(listOfNumerics)) {\n",
        "  elementLengths[[i]] <- length(listOfNumerics[[i]])\n",
        "}"
      ],
      "execution_count": 7,
      "outputs": []
    },
    {
      "cell_type": "code",
      "metadata": {
        "id": "o48-hCOE3ksM",
        "colab_type": "code",
        "colab": {
          "base_uri": "https://localhost:8080/",
          "height": 97
        },
        "outputId": "c1955a8a-8643-4312-dbde-505b4ec85354"
      },
      "source": [
        "elementLengths"
      ],
      "execution_count": 8,
      "outputs": [
        {
          "output_type": "display_data",
          "data": {
            "text/plain": [
              "[[1]]\n",
              "[1] 5\n",
              "\n",
              "[[2]]\n",
              "[1] 9\n",
              "\n",
              "[[3]]\n",
              "[1] 10\n"
            ],
            "text/latex": "\\begin{enumerate}\n\\item 5\n\\item 9\n\\item 10\n\\end{enumerate}\n",
            "text/markdown": "1. 5\n2. 9\n3. 10\n\n\n",
            "text/html": [
              "<ol>\n",
              "\t<li>5</li>\n",
              "\t<li>9</li>\n",
              "\t<li>10</li>\n",
              "</ol>\n"
            ]
          },
          "metadata": {
            "tags": []
          }
        }
      ]
    },
    {
      "cell_type": "code",
      "metadata": {
        "id": "eBr6LvRx3m-m",
        "colab_type": "code",
        "colab": {
          "base_uri": "https://localhost:8080/",
          "height": 149
        },
        "outputId": "0441af26-aa7a-4ffb-cbb5-ddedaf95ef12"
      },
      "source": [
        "# using map to replace for loop above\n",
        "map(listOfNumerics, length)"
      ],
      "execution_count": 9,
      "outputs": [
        {
          "output_type": "display_data",
          "data": {
            "text/plain": [
              "$a\n",
              "[1] 5\n",
              "\n",
              "$b\n",
              "[1] 9\n",
              "\n",
              "$c\n",
              "[1] 10\n"
            ],
            "text/latex": "\\begin{description}\n\\item[\\$a] 5\n\\item[\\$b] 9\n\\item[\\$c] 10\n\\end{description}\n",
            "text/markdown": "$a\n:   5\n$b\n:   9\n$c\n:   10\n\n\n",
            "text/html": [
              "<dl>\n",
              "\t<dt>$a</dt>\n",
              "\t\t<dd>5</dd>\n",
              "\t<dt>$b</dt>\n",
              "\t\t<dd>9</dd>\n",
              "\t<dt>$c</dt>\n",
              "\t\t<dd>10</dd>\n",
              "</dl>\n"
            ]
          },
          "metadata": {
            "tags": []
          }
        }
      ]
    },
    {
      "cell_type": "code",
      "metadata": {
        "id": "BMw2C5384keX",
        "colab_type": "code",
        "colab": {}
      },
      "source": [
        ""
      ],
      "execution_count": null,
      "outputs": []
    }
  ]
}